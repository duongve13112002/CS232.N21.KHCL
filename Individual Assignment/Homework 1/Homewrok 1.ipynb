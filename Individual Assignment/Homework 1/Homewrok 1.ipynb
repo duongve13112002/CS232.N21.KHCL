{
  "nbformat": 4,
  "nbformat_minor": 0,
  "metadata": {
    "colab": {
      "provenance": []
    },
    "kernelspec": {
      "name": "python3",
      "display_name": "Python 3"
    },
    "language_info": {
      "name": "python"
    }
  },
  "cells": [
    {
      "cell_type": "markdown",
      "source": [
        "- **Họ và tên: Nguyễn Vũ Dương**\n",
        "- **MSSV: 20520465**"
      ],
      "metadata": {
        "id": "1i7GQGlariZu"
      }
    },
    {
      "cell_type": "markdown",
      "source": [
        "#Cài đặt các độ đo tương tự sử dụng trong so sánh chuỗi mà không dùng thư viện hỗ trợ (code from scratch)."
      ],
      "metadata": {
        "id": "avlLA2UqrsmW"
      }
    },
    {
      "cell_type": "markdown",
      "source": [
        "##Levenshtein"
      ],
      "metadata": {
        "id": "k1L5V7PCsDBg"
      }
    },
    {
      "cell_type": "markdown",
      "source": [
        "- Khoảng cách Levenshtein thể hiện khoảng cách khác biệt giữa 2 chuỗi ký tự.\n",
        "- Khoảng cách Levenshtein giữa chuỗi S1 và chuỗi S2 là số bước ít nhất biến chuỗi S1 thành chuỗi S2 thông qua 3 phép biến đổi là:\n",
        "    + Xoá 1 ký tự.\n",
        "    + Thêm 1 ký tự.\n",
        "    + Thay ký tự này bằng ký tự khác.\n",
        "- Ý tưởng code:\n",
        "- VD: Như ta muốn tìm khoảng cách (khác nhau) giữa 2 text là \"find\" and \"fond\"\n",
        "  + Bước 1: Ta sẽ khỏi tạo ra một cái mảng rỗng có kích thước bằng độ dài của hai chuỗi đầu vào và hàng và cột bắt đầu từ số 0\n",
        "         |   f i n d\n",
        "         | 0 1 2 3 4\n",
        "        f| 1 0 0 0 0\n",
        "        o| 2 0 0 0 0\n",
        "        n| 3 0 0 0 0\n",
        "        d| 4 0 0 0 0\n",
        "  + Bước 2: Ta so sánh chuỗi theo từng chữ cái. Nếu hai chữ cái giống nhau thì giá trị tại ví trí đang xét [x,y] là giá trị nhỏ nhất giữa giá trị của vị trí [x-1, y] + 1, vị trí [x-1, y-1]và vị trí [x, y-1] + 1. Nếu nó khác nhau thì giá trị tại [x,y] là giá trị nhỏ nhất giữa giá trị của vị trí [x-1, y] + 1, vị trí [x-1, y-1] + 1 và vị trí [x, y-1] + 1\n",
        "  + Kết quả :\n",
        "  Ma trận như sau\n",
        "         |   f i n d\n",
        "         | 0 1 2 3 4\n",
        "        f| 1 0 1 2 3\n",
        "        o| 2 1 1 2 3\n",
        "        n| 3 2 2 1 2\n",
        "        d| 4 3 3 2 1\n",
        "    -> Kết quả của thuật toán chính là giá trị tại ô có [4,4] hay [len(text1),len(text2)] "
      ],
      "metadata": {
        "id": "sBjK-yfmsD4m"
      }
    },
    {
      "cell_type": "code",
      "execution_count": 1,
      "metadata": {
        "id": "Z68KGuBZrXd9"
      },
      "outputs": [],
      "source": [
        "import numpy as np #Hỗ trợ tạo ra ma trận \n",
        "def levenshtein(text1, text2):\n",
        "    size_x = len(text1) + 1\n",
        "    size_y = len(text2) + 1\n",
        "    matrix = np.zeros((size_x, size_y))\n",
        "    for x in range(size_x):\n",
        "        matrix[x, 0] = x\n",
        "    for y in range(size_y):\n",
        "        matrix[0, y] = y\n",
        "\n",
        "    for x in range(1, size_x):\n",
        "        for y in range(1, size_y):\n",
        "            if text1[x-1] == text2[y-1]:\n",
        "                matrix [x,y] = min(\n",
        "                    matrix[x-1, y] + 1,\n",
        "                    matrix[x-1, y-1],\n",
        "                    matrix[x, y-1] + 1\n",
        "                )\n",
        "            else:\n",
        "                matrix [x,y] = min(\n",
        "                    matrix[x-1,y] + 1,\n",
        "                    matrix[x-1,y-1] + 1,\n",
        "                    matrix[x,y-1] + 1\n",
        "                )\n",
        "    print(matrix)\n",
        "    return (matrix[size_x - 1, size_y - 1])"
      ]
    },
    {
      "cell_type": "markdown",
      "source": [
        "##Hamming distance"
      ],
      "metadata": {
        "id": "J0KJjliDsPDl"
      }
    },
    {
      "cell_type": "markdown",
      "source": [
        "- Khoảng cách Hamming ( Hamming distance) giữa hai xâu (strings) có chiều dài bằng nhau là số các ký hiệu ở vị trí tương đương có giá trị khác nhau."
      ],
      "metadata": {
        "id": "ZXZANj1-sQMx"
      }
    },
    {
      "cell_type": "code",
      "source": [
        "def Hamming_distance(lst1,lst2):\n",
        "  if len(lst1) != len(lst2):\n",
        "    raise ValueError('Inputs must have equal length.')\n",
        "  size = len(lst1)\n",
        "  different = 0\n",
        "  for i in range(size):\n",
        "    if lst1[i] != lst2[i]:\n",
        "      different+=1\n",
        "  return different/size    \n"
      ],
      "metadata": {
        "id": "29rIdWY-sPzr"
      },
      "execution_count": 20,
      "outputs": []
    },
    {
      "cell_type": "markdown",
      "source": [
        "##Jaccard"
      ],
      "metadata": {
        "id": "XVW9OT30scDA"
      }
    },
    {
      "cell_type": "markdown",
      "source": [
        "Giải thuật chỉ mục Jaccard, hay còn gọi là giải thuật tỉ lệ của giữa phần giao và phần hợp của 2 tập hợp. Giải thuật này là kết quả tính toán độ tương đồng giữa giao của 2 tập hợp và hợp của 2 tập hợp, được tính toán như sau:\n",
        "\n",
        "\n",
        "​![image.png](data:image/png;base64,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)\n"
      ],
      "metadata": {
        "id": "CwVkbEjTsg9Q"
      }
    },
    {
      "cell_type": "markdown",
      "source": [
        "- Nếu tập A và B đều rỗng thì J(A,B) =1 . Giá trị J(A,B) luôn thỏa mãn điều kiện 0<=J(A,B)<=1"
      ],
      "metadata": {
        "id": "GyfeBz8NsjzA"
      }
    },
    {
      "cell_type": "code",
      "source": [
        "def Intersection_two_lst(lst1,lst2):\n",
        "  new_lst=[]\n",
        "  lst3 = lst2.copy()\n",
        "  for i in lst1:\n",
        "    if i in lst3:\n",
        "      new_lst.append(i)\n",
        "      lst3.remove(i) \n",
        "  return new_lst     \n",
        "\n",
        "\n",
        "def Union_two_lst(lst1,lst2):\n",
        "  newList = lst1 + lst2\n",
        "  intersection = Intersection_two_lst(lst1,lst2)\n",
        "  for i in intersection:\n",
        "    newList.remove(i)\n",
        "  return newList      "
      ],
      "metadata": {
        "id": "XRwVLoj2sc0z"
      },
      "execution_count": 3,
      "outputs": []
    },
    {
      "cell_type": "code",
      "source": [
        "def jaccard_similarity(A, B): #Tính độ tương đồng \n",
        "  A = list(A)\n",
        "  B = list(B)\n",
        "  if len(A) == 0 and len(B) == 0:\n",
        "    return 1\n",
        "  inter_section = len(Intersection_two_lst(A,B))\n",
        "  Union = len(Union_two_lst(A,B))\n",
        "  return inter_section/Union*1.0\n",
        "\n",
        "def jaccard_distance(A, B): #Tính Khoảng cách\n",
        "  similar = jaccard_similarity(A,B)\n",
        "  return 1 - similar  "
      ],
      "metadata": {
        "id": "3p10_DYysgK-"
      },
      "execution_count": 4,
      "outputs": []
    },
    {
      "cell_type": "markdown",
      "source": [
        "#So sánh độ tương tự giữa 2 câu:"
      ],
      "metadata": {
        "id": "cuao_oFfsp1F"
      }
    },
    {
      "cell_type": "markdown",
      "source": [
        "##Bag of Word"
      ],
      "metadata": {
        "id": "6Mu6l5d4ssxQ"
      }
    },
    {
      "cell_type": "markdown",
      "source": [
        "- Bag of Word hiểu một cách đơn giản với số lượng câu đã cho trích xuất các đặc trưng liên quan đến \"từ\" để biến các câu đó thành các vectơ , các vector này được sư dụng làm đầu vào cho các thuật toán machine learning\n",
        "- VD: Cho 2 câu sau:\n",
        "    + \"Tôi yêu bạn lắm nè\"\n",
        "    + \"Tôi yêu bố mẹ tui nhất trên đời\"\n",
        "- Bước 1 : Mã hóa các câu được cho: Loại bỏ các kí tự (hoặc từ được cho là vô nghĩa) nhằm để giảm thiếu không gian lưu trữ và thời gian xử lý các từ này \n",
        "- Bước 2: Từ các câu được cho chia các câu đó thành các phần như từ, từ khóa, cụm từ, ký hiệu và các thành phần khác. Sau đó từ các thành phần đó tạo thành một các gọi là \"Dictionary\" , \"Dictionary\" này chưa có từ được chia ở trên và các từ này là duy nhất ( đã loại bỏ các yếu tố gây nhiễu ví dụ như các dấu câu , khoảng cách). Dictionary sau bước này như VD trên là ['bạn', 'bố', 'lắm', 'mẹ', 'nhất', 'nè', 'trên', 'tui', 'tôi', 'yêu', 'đời'] \n",
        "- Bước 3 : Từ Dictionary để xác định các giá trị số phù hợp trong câu VD: \"Tôi yêu bạn lắm nè\" : [1. 0. 1. 0. 0. 1. 0. 0. 1. 1. 0.] và \"Tôi yêu bố mẹ tui nhất trên đời\" : [0. 1. 0. 1. 1. 0. 1. 1. 1. 1. 1.]"
      ],
      "metadata": {
        "id": "jGEwNXnJsvU_"
      }
    },
    {
      "cell_type": "code",
      "source": [
        "import nltk\n",
        "from nltk.corpus import stopwords #Import thư viện có các stop-word được định nghĩa sẵn để giúp hàm tự code giống thư viện hơn\n",
        "nltk.download('stopwords')\n",
        "stop_words = list(set(stopwords.words('english')))"
      ],
      "metadata": {
        "colab": {
          "base_uri": "https://localhost:8080/"
        },
        "id": "WDFZkynSESKn",
        "outputId": "13a86bb8-4f50-4d91-99e2-7ca55373b3d9"
      },
      "execution_count": 5,
      "outputs": [
        {
          "output_type": "stream",
          "name": "stderr",
          "text": [
            "[nltk_data] Downloading package stopwords to /root/nltk_data...\n",
            "[nltk_data]   Unzipping corpora/stopwords.zip.\n"
          ]
        }
      ]
    },
    {
      "cell_type": "code",
      "source": [
        "import re\n",
        "import numpy as np\n",
        "#Loại bỏ dấu câu và các từ mình cảm thấy không cần thiết nhằm tiết kiệm bộ nhớ và thời gian xử lý\n",
        "def word_extraction(sentence):    \n",
        "   ignore = ['a','i']  #Stopwords là các từ hay kí tự nào mà mình không muốn thêm vào dictionary\n",
        "   #ignore = stop_words.copy()\n",
        "   words = re.sub(\"[^\\w]\", \" \",  sentence).split()    \n",
        "   cleaned_text = [w.lower() for w in words if w.lower() not in ignore]    \n",
        "   return cleaned_text\n",
        "\n",
        "#Hình thành Dictionary từ việc trích xuất các từ trong câu\n",
        "def create_dictionary(sentences):    \n",
        "   Dictionary = []    \n",
        "   for sentence in sentences:        \n",
        "     w = word_extraction(sentence)        \n",
        "     Dictionary.extend(w)            \n",
        "   Dictionary = sorted(list(set(Dictionary)))    \n",
        "   return Dictionary\n",
        "\n",
        "#Xây dựng mô hình bag of word từ Dictionary\n",
        "def generate_bow(allsentences):        \n",
        "   Dictionary = create_dictionary(allsentences)    \n",
        "   #print(\"Word List for Document \\n{0} \\n\".format(Dictionary))\n",
        "   vector_senten = {}\n",
        "   for sentence in allsentences:        \n",
        "    words = word_extraction(sentence)        \n",
        "    bag_vector = np.zeros(len(Dictionary))        \n",
        "    for w in words:            \n",
        "      for i,word in enumerate(Dictionary):                \n",
        "        if word == w:                     \n",
        "         bag_vector[i] += 1                            \n",
        "    vector_senten[sentence] = bag_vector\n",
        "   return Dictionary,vector_senten  "
      ],
      "metadata": {
        "id": "hxoxwvoosxip"
      },
      "execution_count": 6,
      "outputs": []
    },
    {
      "cell_type": "markdown",
      "source": [
        "##TF-IDF"
      ],
      "metadata": {
        "id": "erCuqB4Qs87r"
      }
    },
    {
      "cell_type": "markdown",
      "source": [
        "- Tf-idf(term frequency-inverse document frequency) thường được sử dụng trong truy xuất thông tin và text mining. Nó là thước đó được sử dụng để đánh giá độ quan trọng của một từ với tập \"tài liệu\" được cho trước. Mức độ quan trong cao thể hiện với số lần từ ấy xuất hiện trong \"tài liệu\"\n",
        "- Tf-idf có thể được sử dụng để lọc các stop-word(từ dừng) trong các vấn đề khác nhau bao gồm cả tóm tắt và phân loại văn bản "
      ],
      "metadata": {
        "id": "V-irPcF8s_ah"
      }
    },
    {
      "cell_type": "markdown",
      "source": [
        "- Cách tính: Trọng số TF-idf bao gồm 2 thuật ngữ:  \n",
        "  -  Tf- term frequency : dùng để ước lượng tần xuất xuất hiện của từ trong văn bản. Tuy nhiên với mỗi văn bản thì có độ dài khác nhau, vì thế số lần xuất hiện của từ có thể nhiều hơn . Vì vậy số lần xuất hiện của từ sẽ được chia độ dài của văn bản (tổng số từ trong văn bản đó)\n",
        "\n",
        "    ![image.png](data:image/png;base64,iVBORw0KGgoAAAANSUhEUgAAAj0AAABFCAYAAAChf1eEAAAAAXNSR0IArs4c6QAAAARnQU1BAACxjwv8YQUAAAAJcEhZcwAAEnQAABJ0Ad5mH3gAACQrSURBVHhe7Z0tmKPI9v+/v7+KjIzMc00jcY1bZNziGteY+wxucIubuMFd3PA8VyxucRs3cYsb3OAWdTducYsbXP6neIeQ105Pd0/OZ55MJ6RSL6dOVZ0qilP/tyXAMAzDMAzzg/P/qr8MwzAMwzA/NGz0MAzDMAxzE7DRwzAMwzDMTcBGD8MwDMMwNwEbPQzDMAzD3ARs9DAMwzAMcxOw0cMwDMMwzE3ARg/DMAzDMDcBGz0MwzAMw9wEbPQwDMMwDHMTsNHDMAzDMMxNwEYPwzAMwzA3ARs9TJ9sDVOSIHVeup9UX1aMhJEkD3H19XejzoeiQKG/3nfPwKVkiH0bhmFAVxUs7BBp9c35ZEjiGJu8+sgwb4wsiRG/cgWOPdHHqVBV+muuqdUxbxU2epg+0wW8JEESuVCrS7GzRM/uqcLEgQmJQjkhhU9MyNXX340qH/4ie0OdUIq1tYC+nsMiw0fNM2xWNlYDu7JHHmPlR6OGUeIb0HQdC93HoSheFznilY/ockvv5Ugj+KuYSsBchcSHoenQF3q/j3llyCb1caEN6S3q7PfmlbcRNnqYA+gwjCn9jeEsdwfVyVzCjEyd+ay68EJMXjj9s4gDLNcZVEMnyUkwPAe248GQqu/HyDZYOfGo0TOXZKoDYCZLmJeX3gDC0HMQv0mjJ4SzTtnouRbUh8ilAkN67Qo8qf4yh3nlbYSNHuYAMyxsGpALu8fB8jVPxd4IWZoUq1KTqgOdyBrNdOWD/WkarRBV74dMlCXCJEG4VN5On0wzwdW+Ar1y4nBVvWOuwkTBUqwUh0sobFT8ELz2NsJGD3MEGbZnoLR7Bre5mIuRpkKiJ5Cu4Thv1EIYJcXacfYaca+a2IPj8W4OhtnLG2gj/7clqvcM0yI2CSsbmNVendhRoPukzLKNVWCguBszCFN+thDSgD7NMhhBApO+EJsAdVcEEFgIivAxPElHfdkKQsiRCy9KkW8ipHMD9tLGAmLQD5DkKRIyuCRtCcdWils6NXX8mrXEJF4Xm3rTZIPZwoRl65B7M8gcycqBQ3nDJEOay9BtG4Zc3sbr5km3l8hCH3GUYW64cCnd/aZKjg2F9bwQG7GMk+eYqyZMQ8W8SD/D2lRghUXgFtVF5C1G401IzpYbYTPsQyySBwk2W5tQrBgzEkaaGleXqzBQIo/KHW4wofynExXW0sKiLBCxIQPGRZDNoM5yRLFY0o4pT1FR7zskAQyLyrtboCrvNfvTLctcCZHka89jrNcJpSpj6XlYbLrfu1hbOXxvRTIsy6mYVPeGhMRfUvyVTGYazKUDfe8txgyRQ2n5u7cYVaofb3HAgM1j+EsXlJT4QPU0gWJYsHS5qfNe+1CofpQModjwlCZIqKUJvbYW82Ilr1d+aCSXCeL1htRtgyidQTNs2EYbd8mxeqSaXDtYijYhSEkuMsnENKDWYeq2XXxQYdpzSneNJKYuYenBK4R3pj5UccalAo/3F6TroRzB9aieijLOYVC7tEkehxF5WZJelZ/SNIesddvjMcTDBqQrPpnncyH7CSRljsT1Ee202WNtv2UTkqxIH+PJrGxrEyor9T8L0uOi3VZ9p1zpVb++VbgR6TglfJqMUEwwgoT0rmzkWDo2lF4jP70/3NuXFFXxhDbyvRFGz83y1+/bD48ftn/8U30+g3/++LB9/PD79q/q8w/HP5+37+4+bb9WH7f07uP93fbu7m778Ouf5aWdMCVfPpThPnW/+PbH9he6djcI/9dvj0XY+/tHCv+tulql9fPD9uGxDf/372XYD1/qcCVfP5Xp3b//vP27ukYxb397R9fv328/Nxf/2f7xy0+9a39/fr+9v7vffuxkqs5TEe7r5+37It/vD+jJ31Tmh+3dA+W1ydq37df/0LWfftn+0WaKRPauiPvd51OV7uv2U5H+rpxLvmw/jHz/dLn+uf318b4sU3Xl6ycqz93j9veiPN+ozPT9hy/FdyVl/L16H6Gur/Fwx9IV1GUmXaRIvn6i8KKsnyq9rL+/v9/+1NGJupwPD4/b941S1DL5lVI+QqHvFPbdZ9KkUyB9e1/m812d3l+/bR9FXkluPS2urt9Rff3aKlFV9rKcLXX5H7YfOspV6vKwHZwgzz8/Fb+7u/9PFYbq9qOQ6cO2buo1ddsu4vta/+4TpXK5Poz2F4087reP9EWjwUW+ft7J15A/a534TxXpty9lPT+cUM8kvc/v6fe9vuMbDRelfPv1f3rbL+X+0LTHb18+lLLs6F7dbvv9A9Xhz0JG77a9y0dkJPS8kenfv5dhe3p3Xn843pcM5Hl2G/n+3O7trdiDoTvIdBPqBUbolCx5PaPZofECj2q/CKff5hrdWDyZjm60nU6rqZBu0SyvnhbNIYuZYbKhWU67AjCbK8XfIB5P3DAWnZWKOXSaqYrZ5DIoayinWYq9SiGZJhZVwNnCoPlyBt9dNTOUNk8GFvICThggCJ29epLT7MuiNIrNyc3MbgLZoJlyuiK5RTSfei4mg9WZkqfKVayEOFFGPzeacLKmQ0FEs0IhT/H0XlbM0NuZ3RyqpqBO+hKOpyuoy6wW+6Fkc41VsMLarJdqqu8zCRZNd2v51OWMJxrNguurtUxGVtSezBSq5WFpOzDVKr35ArpKWQsCUDFbaIZfiE3WoXWWJmXThkl6F7suSHUr2vJrdbzEbGHDpiJm6yXVZXntJHlKBjzHxtLRqjATKNQuipl+2G9rddtWDQorm1ivAqzW4inOy/VhtL+o5QEdltnueZuXlTWyWthHon7ZsanspB8FEwVlkTwMirRDurJhrTMoYgWmydsEc3XRyLDm5LYfuzBdknenPU5IFwxVgaYr5co50bTbHrNiNXeHIzLaKCKt8hopP9U5QXmti39+fzjWlzxHu3lenm705BvEcfz0V9tSGtKVMfAFc+bLCqn6RkjXpCQuGTwe3Farz2SGheuR4UPKbK13lvR+SGQbXvdpriuO5PLooxtPfKJjLtOwQIOAt6Yc54jXQaEPqty9jzGDLAJFu75u1CrxyYwG1tlYZyTIENEAJuKVZwOraCqebRMDnI/whTqGy+RKg8pKDIgqlO76PHWcRXlC0XHKZDiRHEMbqkKdNw3s/irB3PIP3CY6xinpdpGrwWAKiep01yZVxp8sVOaNIfTszFWynReYJiFWvoulaUGMfdRxnmgIkw5r4q/Y/H2sl5lBISND6KS3FomcKk8apDUDupwjojbikwFkOEHxTbYnl3I1Ck8l0qVC8M+hD8SlTyVOZGjCEMkjrKn9ObZBRp74ghriQcGn1E+UO86Uo4+lnt7249Arwqmkew0zhYwiytuTBETskdF42685vz88HN/b4clGTxJY0HX9yS93pEHPyFINSKmCwIHekbdq+9X1wYs6FVvMLKpwojXudoQJfMvCGgaWllDLpyDDWtL0YW3BupEdvnL3aS6axbwNNkgzMs7X5aeVYxSOAcuXjSBXoIhHR04bhQZskFTx7ifEZlO9fQtk1PEX6hzDpcGilZWLWDiCrGZ+skltzqYZ/2RDg2s5sKgqta1LZwAnpvumSAKYqgzdpbYi6zTIOTi726k6sSg9LthJ/VjgJkV2sjxTRNQmFMWEn86hmmSw2Hr13elcXR+eQhrBMaiMpo+UDE/T8XFakVJs6i00Rzm17Wdie1bFa9Hh5+oPXz9PNHrETELU5hSK4SAonNR1XoFZBhMoS6y734nX2mtmAdKYVS1m2DK9JPquGTR0GLpSXh++xAyDlHvllMvYUt0BdEjFpi2a/KjL7sbJPWRlw5HEBj5hEo8hm1iSZRw7Tmf5+Uemc5uLDM2T+4cXRYKYiNXL6DoZzb4/fNk0CJTfn8dMTNiOoIwvT19CoZPBYMXjylC7KUVBRr07JiudJJpjE28wb9p9iGC5wLRzO/E0xAZIsQmb3p6U7itCbMx2omK2PIrYqKstEU5NeKRfmjyjIa/TJ9Ggkh8dWHLkVb+inuAQK60NI+ozpyfKM/ZMGH4E2Q3gUX8332kHp6xKXUsfrkEMzzTgRzLcgCZpyrySQ4e9gj+lPdec2vanYnGtID9e4d+N5+kPBxxrIy/A04yeJCo8ycqWRzMDsvAHbTKJ2yFRotnOzuKYsMCpkQnFEHbNXpIYjUGtUDxHjOWZohe3NWY7I02MQDz+S52QecJu8jSiyhc33jNq9Ht1dYqFadL/NBj537txvxDNba4zSGn2V739bmziwiibmip1+xKU6v5+RLPgPjQjDmhGVn06j/qWAmnXcCZOnwuNULTBExNPIcOGdPJZu86JjIUu6jcW238GJFjTIJaJvzoZK43KzyDrdjEByGhme04nl22oUxQFOindV0ROBtuBDQ1ZtConBQuhfzWdmhO32eUjewJz6mOL2zIKFsMOdod2EipWl06TZ4zIFb9RofWUtM1n7JHRtD4m+evpw5OJI5RFGrS7pkhkFMkWxovUtuedfmKn0Z3e9uWFGCMozvVQhxMEpntYB8SqzNVnl8/VHw440kZegicZPQk16oQMCHv0ecSUOmeheSVK775hS7kcKx306puKTrF6L6nCC/ARKqNoeJ81XbkQLgSmRrcT2gfNXKJK06Q9ewNqZLW45ZP53c2Gb5t8kwjVF6vkozS3uUaQpGITAtKmk8gR+bVvFvEYa0v7fvxq73L9oXetxfc7e6ty6tgcnzJqwavuJ0jGEjZNXyKxKte5YZ2uHdhpu9G6/WZPQgNmmgOXjOjQ8xE1P8mp4/Bolr+A62iNzp4bt2gbcrEsH5V1QYZcrAsTrmUspvF0Ou97P6o+NNcmUKgj1uWMZOh2NtxSmTySHU0Ry6rP4HrthkdRtwl9UBfDR6b7SGWBqs5W7AnUxbYE4tR066z2CtFj/Pvqc+9y58Mw+JDpHEqxNELtgv6Ifkk8xryvrFOp6meoH6wHkDwO4HUHMKm39gOEPhkOdUao3YgNzJTCwnWg7fRBNCnr3DvaBC6cahJaqvwp8hT6JUpAetVs0kux8rzyrbhEr1l9K6wKUofsc5k+jEbWudb9un0/noMCSUZZJDL26mDpCv0iiZWw8vOQmWYX8oscar9NMsK/1LI0Ymkgr0V5ctuv+6FwieVq0+RejEkuTf7LHkqoWLmpOc+ayirqlXoyIkfnsvjY0Hnbed+9Wn9qrz2tP+y8714+s428BE/w05PA1zSE+hp+d8NNDc1QljJZ/sUHHX487nEz8TVooUFtvR0Y+vT9m5hBsntPPM+Rk/HURF/4f/CgrFYd9/7UkMnYsWnkFf4g7GEcO8RwJMq3eCtuJxz5QexI0Cmw4oQkl0MW0iunkF3tj6Nm6EelInagUO/i7XxH5pI4XoHkPCusxQkkU8PEoIZfBoDq/pf6gX83PiBKVFgW4Lr91GFRxxBbAx83fZ8VZkaDxSKBR78VZtUmyTDXLCytxWBlsPKp4a8Q5zPMxFNlCwM2GRITqvOuX4oai8oxatf3EP4uKJ9i9iwMeZrpTYQfGUsT4xoxHvdJPizE/gTbhr+hQazYn1D62uj78CixAmpxYo9c9bnkMrmKthdTh+utyOCiAVL8UwwTpiraO5VHcZEJnzchzVOpzGI1VKLZva1J/YF8B7GHhML5G0yoQxR7SOzelHx/umNlFv54ar8po99T4S0yHoYycV2ZvhrUSOUDaS9JUPwmoiFBGPe2e/iWmzByHNdDsKEykCLOFBOWlsPVTaxy6tdosCySq9tdz0/PBumMJlSWTYZLV6K1LvX99GygQDfr+ulyqB4FGxq0yWASPmkkmlRO5tBIZvPQgkn6OdEo/3aO5U6/0NWVC/RhrK8h+Qc0XrR+vUrUUoFP65cEm5D6AgdlkWaYzElW1hyhZVKeJ9A8qpfOk2+7VDJp+rAZVF1CZDlNHtp+4Vjbbyn99AQIM9IfinamUh9l9D2yJ6sl6UyIvPAPRGGof5JDE8s24bNk5Loxlb1/te13zu0P9/UlnXZzZhv57hQPrl/Cn79uf+75zhjw9WPpg6B6Zn88mPDtQN/XvhRG+br9WMcz6iul/P5994vC78QgbO0/4O7DduDmZZyifGW6Q78wYzQ+F16xf4LXwCmiZ5ib4yz/Jsd8NzE/It+487wKl9/emilYBmNLriVJ3O7gEMtb+2zqmRZgRZbuXsS+oeqtWLYcPhko7t+uxBJt9wvJRJS4Pb8qOcVT2KbSfO+yZpa0j9CH6xDlzTkZ0yxprrdLt30mc5nmWUQYXfVR7h+NPaJnGIZhDiAWkZinc7nRMyVDY+/GuhRJ4wFqisWe/TxiCBSOlEo/D+OkZKw0tzHV/l4Gkc7a9+l7tdoTsJ9N/XyeMoyjJkagtY/Qm83j2DE8q77uIe7eU+0ym1fxrhFfZQcYwzA3w54tEvsow/DsimHO5XnO3spCWIpZPXG1fz/PcTKElgKztldMD1a9fJOnxeZYcX6O2EwTHzxluhPPsXv2Be1+nimFj46GF7T3P3U/xvKMAmehjYW5ao27pzAVj2ra5aoTwzCvnt45ShX79pGN7Vl6dWcbMcwr5nmMntiBJHb1Cg4cqHiczmbiAxzfPJxibarFhk3VDamDOBSWSDwomlsYIacbMN00zu+Erue/YcLLoAzDMAwzwhOdE44jHmWvUY49rniI7n6eqdip33FsmMQIirN2plAOOvkRdL1sHrcI2ltqKsV9qgXRhov3Ped9APHo/nVeVYQMwzAMw/R4hpWe9tFwYZBYQXTC477jiLO31DKi0cfGy6XeORlD9vhjiw3trafjqzCdR+QV58Cj9EM6vzvpFtrr4V//+lf1jmEYhmGej//973/Vu5fh+kZPz/eCcC9/zCDZR45oKQtbp2DhRXAHx1wnngItcRC56pHVpDOMno5/oam1QtSc3HyMt2v0MAzDMMwtcP3bW5Xr/4KFsnv0xMkkCCuDB1CgjjziJZkh4qMGj2AmTrw4jc6RF1rhWvJ8xs78YhiGYRjmZbm60RN39/Oo0hP288TtWU2SuudsrskJO3QEbajmQL49JPG62s+jk6FVvCnZRPD9Q+eRpMIRZ8HumV+HyUILkiRd56XUxz0wDMMwDNPlykZPgrg5xe2UDcb7SZPaOSCx45/nXKbiwPaC5OBTUh3/Qr2DTcXZURa8zeTA/p4cefXT+Y4HxcNMVbdxfvjkV/i2H1cXj++OGnN7X0cObHwmxH4ySVKgqsqL5eEalPJWoCj016wN/tdPvlnDMQ0Y+oImVwZu5azfPhlN0mJ0jk16dkp9UUnvv7e+iC0KlKZKadNf8+gBqMzbI0dajGP98xmvzXWNnmwjztar0MqDxy4ix6bj0Vm/PKKGWX1/iwS6v7mk4pijko4X6XRtw1orWJoHfAFl1am6wlHiBbbe+JNYl7yqCN8y0wWcVdw8qSf2bBUI9wf103vxGq7+BL3IY6z8iGr8MqYLj/LhQk3fducrmyTLtQXpLRUj9mAslkjFYY+mRE0vguOHBwfgNPKxag7y/DFIfAOarmOh++0E8VrsaR+lvpiYX9pwLkaGSe0+tKWL2+wt8Rb1XeizWjgBJsN2GT2b4fM0oyftrjJEWLl+u59HEqeUd74/YTpSWnn0EgegNft56HrneIhT4hljNq8enQ/FwXz7qE8cJtJcrN0gWdnQlxkMz8VB9z6bTVn2qXz4RHbmAJlQKVL4JbRjrgImcywsk0zMGBfZHWSgr5z9x4qcxqGVvzfEdHribeLXQEr9jEu1bpDhM8NUteCRvnjW4b19aehg3R77/0MwF8fy0N+ZLD1h7+QeDrWPF9SXH2FO9z14e/ou+v52uTZbl6e0PwdPMHoyrJftsQ26bsAOOmvMSQDb6Hzvx4ctt3QFuw5rihNaW0LHaOIx1xfOaSQFpT0TYb8bnQmUZQDXUCGHBmRFgxPLcNfVScgHEEfoC6a68sRbcUzvHLVDTGcXPhlI9RWteO/Tm6RajSUVKQfAeTE73DlYvEeMsN1q+MMwUZYIxerHQW/0l8Ht4y3zFvV9CtVyoM2pYc8UWJ7xbOPoE4yeKRZedavhlNexhjnT4I/9bvA67UiIMWTqHMVgGmG99wAtwRwL20MQUnrRGj4ZdvLRMThDvC57Yl3lR9UvZ4NNqGJ+8rR1jrkaikW280jXcBzu0t808v5DjIfEngPvbd+F/L5w+3jTvFl9n2twaBxNQrHI8Hxres9zDMVrJfGhaQ6Ss5wOnkC6gqHaiCQbq9XzWai3SnPe0ClHmmQxAtfFKqGZ8ETcoJSgWRb0ynJNAgOWG2Ez7BS6vpXymIxdF+JYt2JzXTqBYliw9KF38dr/k/AWbu5ZdWp9RAmsIIQcufCiFPkmQjo3YC9tLCpDrzyHaYrpNEMmV+Xt+b4SYih9TfXOYSLZrK0cvreisqU0QQAU04FjSKT2y+KMuiI9mlyYSwe97VB1/ArlRckQUt4oMJJMhmFbMIfLKCmlTzION9QxUVoT1cLSWhQb//t5MmHPY6zXCUlBxtLz+ukOOVJ3Yi+PNDykith3ThWyCI5pw4+HS7sq3MhD665L3MYmWVE8mGRIcxm6bcMo0u3Xn24vkVGnHEcZ5oYL18xIZnXdULxrC7nvYUUKlpaVQAYE9QnU9yzdkOLeIEpn0MwlnK4wxMZsN0A2UzHLI8Ti1kRMM95oXK9KOccQD4qmqfCHVobrneNFOh3KEVyP6r1Id071uYRdK9sIJ7WPWl9UB4GRImjiHymX4IC+HIT0wXcc+GR/zUXgiQRlnsClC7v+1mjiGVB9lMoD8byKpI212ZzCOUUcOQmvyALJ3FoakPOqXFNqf1kGo9Krnkybtn5iu4YwIEl2edkmJY3kYyuDsSeldk55DzeUH9KbiciPRX1C0aA6bX+/fhU2wsn6fuMIo+d2+Gf7+d3d9u7u5+2vf1aXrsCfv/5Mcd5t333+p7rCXJN/Pr8r5Hv37jPV4AH+/HX7eH+/ff/57+oC8dfv2/d07fHT1+qC4Ov2k4jv7hO9G/LP9o/34jtRn1U8f/22faTP9x++bL+VVyoOxdPnr98eizjv7x+3n77WsXzdfryn3//867anjlV6w/KO69mX7QcRlsr40/vP27rkf/9epvfw8NiRx570/vm8fSfiuHvo5G27/fbl4/ZnEUdXdoWMu9dIBg/028ffm7SbPFW//frpviz7pwON7ip1N06tP+Ptk+r7l59Ifu+3ddJ/f36/vb+7337sJFDXXxHu6+ft+yIP77d/VFF++SA+32/vf2rjoUoo6/HhYfvYqZuvH4U8On3QN5IXyZTUq+XrR8rDsTLWch6Eq/Wnkl2jbcN093JExo2+lPV7MP6T9GWEv0nG9Lv7jty23/7a/v6+1KV+Xf65/fWRZN8Nuy3D3j92y/D39rP4faeu6zZ112nbZV3eUVuoLgi+/bH9pShzXyaH2/XD9qGTft0mP3xp21id97uHNtzXTw8U7nH7e0dAB/Vr0C8d1nfmyo+sv3amWFjCQ3QCL7jS7nCalQWesLgdLNmUfkES+Evho6jc4Now12AYQOTSjJGq6Tji3rKHpe3AVKt45gvoKk2kggA0wb+I6bSa1upWZ+l2DllMnpPBzHrPRtFx/0/VZupMgmUvmhnkbF46LognGs3s66t70qtRDeidZeWJQrKkaGKx+lJMHisZZzoso5r1U2vSdAoU0ay/2dJXb/BWYWgyZHONVbDCeq9382vV3fnkNDu3qXCSaTYPKswWBjSacfvuqtnI29afgYW8gBMGCEIHtZP4SfHbDBL1L00RZvPSfUQ8gdapm3lZCYjqShDnCNLbng+xuQpNObZheM9G+kZ/qJ5MuYljJ92nMjVhH4z/VH0ZkmJlW1hnCuyO3MTDC+qijqdFrGSKu3GG0QlLuq6VygOnUp50JZ7CzaBYVlNHkqKTnElPF/OmHGVdDphMKcZdDrfrDaXVrtTVbTKIW2Uu857Rz40mnKzppDcRnI6ADuoXhXum5vFDcmNGDyEZcB2FBjAH3t5Gdzri/mlAjdNxrni7jDmfJCzrU57vdE7zuehOYnjhiRVOA45OHeiU4lz5LpamBbf4qbjl8jRkaf+thaehjD812HG9cD4zlP10hJW45SUOABZyUCmtun8nxJORokMOO515iVzcfqGhAZJ8wFHpNevuLHLE64ByTkWi/LXMIAsvCdGuDxy1qr/JjIy5WUcIFcp4JRx+olNWYFHyoa1CIYPLdnyskjksX3/arfLneKqry7H4z9aXijRGsUXymNwKEoSl8uzuBaQLhfZ4IWlQWu27FNnuBJR0Moo82MrlrUQw3q5lHG7uZCCWAiK96QmoyHdGOj+U0Lh+Medwe0YPMdPI4NEyeEsXT3FlkK7JuvdSLGgmqrEuvijZJi4Gr0NkB300dUgCmKoM3aVOUtZhk2FriV7oholSkh0NRkUnHLuwaRZt1C+yCBVFQT3pPZer1t1ZbGggLN+tnE55DBtBLhw2UoGushx8DBlmEMDWZEw2ZCj4DslXhWqtm5Wmt8jF+pJW7j9OIaM6PK48SLMUmyrSC9X0+gjfbqWA4Nod+Rg0LpF8lEsbFHOQmzR6xExOdQJ40opm9Bd60409WFYM1VvB7S7JMy/ClGZHR6FZ0uhqg9gAKE7xL96vYWpLhFMTnm9Dk8Vmx07nQ4PgQafePygqyW4yqaQnW3B9H/7wdaGzyCfV3QWIzbriloKgvpWh2yPlofpXrpXoIXIauDdzGNQniUfQkzAobpVn6+WBW0DfkW77OIOL9WU2K2/bnMJ0dsJq1hwzCjerIr2+8Xwhk0ml0zIsd0Q+T13pq+jqO3OzRo9AGD4hYr+9l3oWsnB9H8Kp930wL4u8gCl6kDDZcWq1ScQUbwpzZD9ASYYNdQrClsmiVTnLXKgdvehYOekalvwyx05sSN++LzQ7rm4zLITxRzIuvD7Q9HTHS0CypgH6wo71SXV3PjkN4uW2EwmKVsYb7Tjvoll4cOisvStCstPJqGh0aiaeHltCFXqZvYbBqm0f53CxvpB1olW3VYfVspsHGYtSecQWmj6bpGjLU3NBociQKiNFFA1ab05GnbU6XNfphnJzZSaU91JAu3knE3NNFu81ar/Vd0Zww0ZPiTi64TJ+kCMf3gDdjm5/x0uzJc+i/z14QacHSVfwPPrW8jq3qITnbfG36lQ3MWK9PN9tKlXGTtR21HkcwOvaG1K79nPqQNCG21Oa7uXpvDzCJc/aTm8T0Gy5fJsPBsLyp90IBNXn3uXOh2FwQejTQNR+ka4dmiFO29u3EwWmq0POPDhu1OYtj+E5K0w6TiXLWMYSGeOcujs3biHO0mFoHIu4hSEnHn0u8yoZS9jKFJHjYNXZwCPKbqft5tX2mz3pVpeH35af+1fbT53rmQuv3C1ekiaUU5WMzVamYwzTK+hc7H4/mu4o+9tHwanxn6EvfWbQbKEPZIxQw2viFf6DlmVD7LaBWj88L+gYLilWpfLAq5RHbGtwF1MkpM9us/KRF/syE7HvqLoiSVrxt3VoLM5erA9y7p8LtVPmgs777uX6Q3NtAsV0ocsZycPtPCRR5mk16axuDn9aUX7uXz2k78yt+elh3g57fLI07PPZk0bwXQ9rau+TSVr6XLEsGMONiuK8JtuGv6GOZ67CdGzUQYSR41AcwYZmh/MJTTxNWFoOVzexyoW3UB962vFHU7HrO0TQ9+dRooKyBNft/77nCyVZYUkdYZjPy02gswUMOYRZdfrCX8h/3Rj/HuRBRGy57k56rkuGhTWQZ51e4QskgBrYmNJgL9zViEF3M1VhNP5qOhT+dDysog0NXCQ0mpkbpll4Re756ak5xb+S4EjdjcZ90EdSSxIIudCwNZcgafbg3LYcG3H0jb9CnM8wE0/qiA3FNNBPRutPiK7yDdTzo1JDaZGsqRp6qHRBpvL0L1P+A5BxkMGQEoj92rWPIuEraN9xLGOyEHlSaIAbNhu1VLadPB6U25720fdZU3I0/gP6cpBNCI8MlCCZlRuaZyp0KYLl1Cl1y5CSYUKGY6k8SMlikXWqB2PoE6f207Mm/ZaobU2on7EHvovSwuiwSZ6zImEKY2qYGGRAlQGoLv9LdfnvE9s16UJMeeld7vrOKX0MeSsyMsnQEf8Uwyz9Y52lX23/c1jfbxs2ehjmLSE2FPESI8O8CGJNhVvf24aNHoZhGIZhboKb39PDMAzDMMxtwEYPwzAMwzA3ARs9DMMwDMPcBGz0MAzDMAxzE7DRwzAMwzDMTcBGD8MwDMMwNwEbPQzDMAzD3ARs9DAMwzAMcxOw0cMwDMMwzE3ARg/DMAzDMDcBGz0MwzAMw9wEbPQwDMMwDHMTsNHDMAzDMMxNwEYPwzAMwzA3ARs9DMMwDMPcBGz0MAzDMAxzAwD/H0M4obkB5IuDAAAAAElFTkSuQmCC)\n",
        "  - IDF- Inverse Document Frequency: dùng để ước lượng mức độ quan trọng của từ đó như thế nào . Khi tính tần số xuất hiện tf thì các từ đều được coi là quan trọng như nhau. Tuy nhiên có một số từ thường được được sử dụng nhiều nhưng không quan trọng để thể hiện ý nghĩa của đoạn văn\n",
        "![image.png](data:image/png;base64,iVBORw0KGgoAAAANSUhEUgAABS0AAABuCAYAAADCgTYaAAAAAXNSR0IArs4c6QAAAARnQU1BAACxjwv8YQUAAAAJcEhZcwAAEnQAABJ0Ad5mH3gAAGRHSURBVHhe7b0vmJtatP/9va+KjLuRea4pEje4gztxJ25wg/k9xRVXXOOKK648z08Ud3ATN7mqPO8rihtcUbe5qrjiGse7Nn8SQiAhmWSaadfnHDoJgc3ea/9f7L3Wf2QEmJIEwWwKw0/pswzDtaGrYwyLH39bksCCZsyRDBWYzgyaUkvzKkG08ODYc0Bz4ZoyBuVPDHM6EVzdgBOmkDUbljGBPNqUrHQZYm5bsGMFtmdjOi5/YBiGYRiGYRiGYRjmj4CVliXpwoBiBuW3bVQnhDv5vVWXqyTEwptjHkeIwyWE2lYwkhUo8hRTfQKlplRimKeTIlpQmZsHiOMQUVKeHo6pzClQp1TuJvJv/9KAYRiGYRiGYRiGYZhdWGnJMAzDMAzDMAzDMAzDMMxV8f+UfxmGYRiGYRiGYRiGYRiGYa4CVloyDMMwDMMwDMMwDMMwDHNVsNKSYRiGYRiGYRiGYRiGYZirgpWWDMMwDMMwDMMwDMMwDMNcFay0ZBiGYRiGYRiGYRiGYRjmqmClJcMwDMMwDMMwDMMwDMMwVwUrLRmGYRiGYRiGYRiGYRiGuSpYackwDMMwDMMwDMMwDMMwzFXBSkuGYRiGYRiGYRiGYRiGYa4KVloyDMMwDMMwDMMwDMMwDHNV/EdGlJ8ZhvkNSRcGFDMov/VBhRO6mAzLr89FuoChmIhGIyBJoPsxDLn87aVTpi0YDjFM05eTttUSC8eGH6dI4gQjw4Gn9414BFfS4FB+jig/JSeE++yFimEYhmEYhmEYhnmp8EpLhvkjkGF4IeI4Lg7fLM+b8KtzcQjfVMrzp7BCNPcQJuXXYxlO4FI8HDVBWp76bSjT5k3SF5S2CK4+wSyZwnYMSGmC0PYQ9E4AlTlKc2BJOLVI/Dk8se4wDMMwDMMwDMP8hrDSkmF+c5bLAEPTgqkcWuU2hGyYMIcB3VOeOooUy7mN6ImKl8Go/PAb8pLSlswdOBGg6xOMhipMd4aZa0I9crHkoPzL7OM8dYdhGIZhGIZhGOZ3gpWW52Y5x0yfHbEaqSJFMNMxm5+kLWKYvcjjcfnpEGOMT922nISYh+Vn5sWTUH4KRXaldRyrGjS1bzlijoLrDsMwDMMwDMMwzA6stDwnkQtds5FqxtGrkYRyQDU0pLYG3Y3KcwzzVFIkVJzkUd8COcRIpqKcHKt1T7CwbbDe5XdDxvg3Xvl6HXDdYRiGYRiGYRiGaeNijngiV4HmHFB8aB7iWdOGXoqFoeAovyEjGdOJBs2YQj6gm0nmOlTrCdPDiYvQUcX6o22SBcypiaXmY24+wcNG5GBKYYydOZzJy9IWpIEJxVjk+aGMgWUYsfONayVyIWkOfRA2LQ3sL7EpIt+BM4+BwQCrFSBRWTc1uagHsQ/ddBAum/W9HvYSC3tG3/MvSJIV5KkBQ1cxbuwfjlyJ2g66+0hnNVsOh1QHC3MFz51jmSaI6bmKYcPW5XzhYHXtcDhEmuplPEvHMUUIIgKIRQQqJzr5SRXOwsTKczGn9CZFwLBtHVLsYeYESFZLhMkIU2MGW5PyuyqqtE3NGQbRAkuSZRIvMZoYMC0N8pYsEoQuyT1YUpzpWQMV5szERAisESfDGiNaLBALBfXMhdt47jYH8rMph4pKHvtII3i2DY+a2LGI50CitiCGQyfUZltA1/qOgyIaK6wgkVxMaDuN+Iria+dhrEajYuHnSMhCh7xqd3BUybmgKofb6TL9AHLowA0TrJYhkrEOa2ZhggXlJ6V1VZQbaUr5aCnYbo37501XecnzunfdceCnI6ijFcKI4ktpUczw93FUdXaojHtUZiiPhWxHskZ1c0byK39mmANstyGCX+Sg7hTW/fuGY/vTLl60XP5Q9ubZVn9V0qOv3w2zz1jy18Pl9+XR5kz0XO3ZRSkdWXqLAFEyxFiM/Twa+5U//zGc2MacRsv8heaDoTvZ1dtckGdrZy7Y118lQml5CX5+e8weH8Vxn737+1X26lVx3H54KM/T8b28uMGPr+Xv9++yv8v7Xt28yf79Up6vHZ/v32dv/r4pw7/J7j59LUPp4Ht173a8Xn/6shXu+vjykH16e5fdVPH4+FgGVOdr9umWfrt5n7X9eiyP70V6brNDSbk6fnwlmX3J7t/dbuT68KP8kbkqHj+WefTxQJmlsn13k928ecg21fVbdv+Gzt1t3/v4scjztiry9WNRR28+lD/+/JK9v6Hrbz/RE7bZF85hvmTvRLpubrK/anH+fn+Xh/nuy8/yjKC8tiGDn5/f5tc26/qXd+JaSvdfb7KHTcDZnbj29ja7qz2vqMP/7NThKm1Nef77ms5TG7cOt5T7q9tN3B4/inp1l91vbizjJJ5P11Ge5u3UzccdmW44T3628v0he0N5uhX2zyJsEc5WW/D1U3ZHefRmk2CKxj3dT2341gO/Zw/i/ppsvn76p0jzuy9ZlZuVHLZu/fk5eyuua+Tvt3+LsnBzc0fXVyE8FuXxn9vstiaH9nJzTN50lJda3AXdsv5J4dCz6PoNRVx758sfx2P28bYsW1TObvMyQAcL7AXyldrGv6j+/529/VyrXM/Fj2/Z5w/VeOZ19rKGMz+zbw9v1mPX44v/HtmfSS5f/32d/UVt5N9vP9f6I+Z0Ts2znzQ1+jfvv49qK6l/z/vnPMztfva6+VH22U8rv9fPL24/z8pT27Nnbm/y8fBtPsb88eXdOt5/7pz4xDbmRH58+5x9EHoZ8azXD1TjmzxD3Xi28cMF+/or42LbwwdjGbIsjjEGazONau7UoThPR8eqh6FU/j4eYH3rRMNUKc/XDnVqwVkEudfjIVKEtg5zscebwai8V6KHrwPXoGvKTtj5oUyg2x7mdrEiVBrk63y2SOY27IhSN+vxljENYesKJPHWoWMhqmzMSFIRbHv+srzuDiWSmYKpoVP8md+B2JvBDktnLOU5YfdyqutA6MD24vLcfiTdhW1RWNOyhgwUTCgI8ZYo6BdETwZFPFMJprWJ82hc1F8/qj+svLbBYNhut7FwopNCMi2sF0GPxshDjgaY1p43praDpNeygq6gKU+N6ox4GznzC9MQhdxTaObmraw81ehZ1H6U1wgqxz6qPqW6Z2Ax9zFfGOhaZ3mu/NwlwdwysUgVWDU5UEcAddJsFWN4M7EdWodeX00+nlK8RDRsVNFI5ha15ykU01zLXFJEX0B9yYT6luJUu4OjwZBStstwWN6lmTDWS1vHJD/6Ey/pWZt2vK3cHJc3HeWFrusn6RiRT2UoSWp9Acl0Sv3dblfEkLwDyj9nWZYtScdsplJ5HGEqsT3WF0cUYBZQyU+XmFOd6RgyXQ7qC1TtpY5nBhhTJ6uV345mn+zPIpcIwSygdk04IfMRPXvm/oacnGc0FpLFPKj82hfq3ydH33QNDKnP/gPmKb+6/TwrT2zPnrW9ieHSmHUhU3xpjDlUaExC8/7hUIEy/lOX9J7YxpzIcKxC0/fU8OeoG882frhgX39lXN6mZRxiXn6k2SaOqa9xtNnGrSoSZUsXA8iGDZqbECkW5owmz/kP3cQRFuVHKPLOFtUmI5ooi+BHo+bsOIIvtABDA0aPdb9J6MGjCS/SVb4ts5XhBIZBYYU0ed/MgV8OPJn+TYgR5PZVqX405/t0QihsIjegGtCDgYwp9VbyKsTC92BbOmxf/EB1oasePAlqa9oUWWdAaQ34ic8by3n7kroLkmeMcC6kqtKzapVpVMg8DXYVXnLZLokXPlJnM3TG/GySUHuaN9c95BAHKKIx3lEqjnMvUBFcSqNQhEZFoJDrCidJg+25sJSnZfBWmGtIfm2n1xyfN+3lpS8yFFMCAov6wAl0i/qEeYyx6WGvBYA/lXgOR3T+E8rH8pSkiRcjAezjDU0zvxpZpXEd1R+a7Oli0leeflaeZTwjtrRJkOg4t0nzk6N/SPYHAhbb40R6pM4EUZ+Xv1AYQtF1KFw9n84T8+y0wvIsFeT8vNBoH8U1tJ+96dcGnp5tz9ferEIfDqVBUsalzEdQLA8hzf/1P33c9oz1bu+jDtQNYZIg77+MRbcST2x7z8us0a1zupb07uNQO9Ennc/ExZWWSRyuM3xYm0gcJsEyrKZ/wi7aoRZmhIlYrZQTwBda4z0ky028JFWiuw9QloamQ5Nk7sClgIa6mk9a97OiNJVWHYQCd89DZVWngpPCc17Yakvm9yFdHn4bmUbo5bMnKVYYK4aHZKzCsD1YL/EF/cVZIvnfBMXCvgiOpVMnUh0OIoVkeOoSu3PmZ5NkuW2vZg/p8vCbvDQS78OpDygDfcZ+fz/phfJmD7Lhw7emkAdLhPNC4a+qJvZtKPhTSeKgUBqPBtdTZpgnIEFzKU9psmexVuuZubzsixcKITzr2hUqLwWuL0wdLg91nqu9iYN8RUbLIifmeuC6seHlyOLCSsuUKu9mtaTY3t0b4cyimgUPJ5D7aDtHxWolQRjEeybG6XoFj0BtC3wlHEM0kYTfihoJTSKLcPqlLUbZlkGs7tybJLHNWvwN5wh5csr8Coaj1u2124zR7pi8MNXglwoe19DhhTIc34W+fvtYo3PZ8Z+GhNF/Dkr5yDAdD57XPLT9bUcXT8rPA9DgrNhIfZjh6HAsxBudIUYYlYGeoke9CNQBXCRvtqjXnRWW0RJj3YZPfVocB/BnEwxrpgSYDUmy6dcZhmEYhmGej1S8w2cY5gJcWGm5RLjeg62K3YD9qW/f7rtCs65QDOM9KxSXYgt/yaQlXhFsWYZVNzpJrVBEE/qt1ZFptSVSg9ongpSmakqlHbxBgpqvRAuxYGM/zC9BxkSYKUAgTP1ts4zzlXVDg+pPcWaHVKxmFrrIKIQjFDDqFFs7etd6ygiuLOwhll9/MWIV9rOzjEp5Ujs5ILlrQu7RrtwRY3GyzZGn5edeRgqmuYIxxLLR8O6oo+UJimjEG7PCJcs4jwWM3A7mCEoRKMKwoaBbhbDN+c79W1CbffacvFjebLOuOyJMTRcmMEtGkDULwhRKukyvR5nLMAzDMAzDMAxzAS6rtKzbs1RoMizmej2Jo40dgf32LGvUV0fSzTuT5YotO5vy7sqiSPwubW8FlwyEsYO6WawVhZPrPqVxp1OENI4QRcURLIJi6xpkDNN4fb5duTrAWC4m7EEYd6flBZNSHnszI1fgSpIwmmtg5pGM9iV2RZN41yrvoUPYeZsJo8orLAMXlqbSeQUTSxhcZrqphLy/ZMmmC1MGXNevKYgSzF1X/AhX/FgiycV+7zDXWi2pbGvFCmmqY4WeJ9rkbTKnMIuP4tQKo00d2h+lgxS3NwMpv2+dpvKTL2dONqdXITxho1aQNMJoC4Iovm+f3XxrXl3geYtN+VxFcG2vJs8BFMOBJqd03oEwgVuwQuTamA/EKsSSMvj2p+xyTH4eF/YIU8ukli2E7Qabe5IF7FneSmKVVgmRYbriWheuX9P8lWWiiqNgNLXhTIaIHfq7FkQhh1hV1itHpSIja1m2QugJZz+CWv4Sm8/tZ7dOV1/W556eN8X37bOddScnhePWzYQkiOmLcHBU647+XNb2diRoTnnO0Yr+QRw7NonETgvqK/QJlPIaVaO+p1XhnGJhlOGUhyleZq6WCKp+SDXKVbFddIRBbPosEY4Gy4t2ysvaNmB5KO7mYWu7S+tDQe1ncXPj98oBYC3+or/UbSxqVXG1DOBa4mWs+F2Fbi9q7UUbJFN/Bn2iFM/J7a+6CJaN1DTjo7j5mCiNfMzy/FDoWcJ0z8a+WXXU092kiK+OCY0VxbUiP21KUFOWOWkEfz3uEAeNPYwZ/Kj16idQH5PQc0qZLEhOSlUm1/LQsCm6VbzoaJZdGv+IfFvLOc87C26wP3cqtuUk7hXp3noCcZzst9nc21oXS5tYzTJdlQPBzm/54VLIFTH8tVmO8uiqgLW2oX40bebF3pTGAt46Djk7dad5X88y38qujMVhNN7crsIZnZ8hrAfZkiZj8f89Ic/OSVnmq7Z1PT4vf+5gU/9F3Ddl+pQaeVRbsMV2fioTPb+vk2PqYke7J8Z+/qxeH7fb4SbNtLUfoq4cqsNP65M2FDIzqus7jma53uLYNnCLRhvbsw+ttzd1tsth2S/MXehb7U8H63QoJMviVGBWZYOOZqOzShBuyW5Pue8oP7v95m6+Vvm+qqdtR07Nsm/Ca+kPnzQW6cvF++d9dWMjP2WTiWV5KA6Rjeu0CofKxUUw63Vyn1HWNurjSXE/5Y/Ro93cxzn6+rOn8xyUXsQvwvf7u9LV+6vs5igf7D+yh9elq/pX/2SfvpanD/H4fv28Vzcfs67b6vF69aEZr+/Zw5sb+u1DdijGXz+K6yiM911XPmYfq+d0Hnvc4Ffp2ZOWq+THQ/a6TN/r1sR9y+7f/kW//5W9/vSYff9ZnP359SF7fydkepu9a3O7//Xf7O5GhEu/P3zNfvz8mX1//Fieo+P2XfbweJ+9zZ99k318UUJ7Bmr50n587Cjz37Mvn95md7e32d3dXfb337fZ209f6GwTuu79XfYX5evfdN37L7Urvn3OPr75O7u5+TsP4/W7++zrD6ofeX7/lb0V+d0Wv9cP1Br048fD6+17xfHxY0sdrNW57xQHitdff9/l8bp7/T778vBh+9plm9wo3I/Nc6K8P7Q8byPXR7rn5v2X7Nvjp+yteN7dbfaXkMn7h+xbWQ82/Mge/32Xvb79O5fn3d3b7OPnb+VPbXHa05ZscSA/O8pJrya8zOe1PN9+yh4+1fOlVsa+f8k+vb3Lbm/FtZTG27fZp3qZWfMzl8Pd3zfZX/m1r7P3D6Uc1nwn2b7J/v6rKF/5NV8esg+1+L9++H9by8LHj23l5qHWB1VHXb7H5k1XeVkXxI66Q+Xzhr5/fL/OLyGvd/dfSSpMxU/qC8Tx5UMp2w9f1ufo/w0/H7MPt/Q7yfTj46ay/Kj6kb/eZm1dz48v77N/qjz78JHq7vvs/vExu6/KyDt6XnltF1thPDxmX95R3bt7l3349Cl7L9rG8rfblo7r59f77E3Vz7VUxO/3mzK8+/O3ckwjfqcy/Pgle0f17c37T9mnT++z13+V4VK/KsZa3z+/pTbhTfae4vXp/Wsqk+XvXW0x1eN3JNObO6rb1QU/v2b3+TNvsjcPDYHSb/+u69Y7qhd32Rtqf759rtrdzZjv+5cP2W31/I4G6JHuv6Hn3NFYosqDn48fclnfvPm8FWeRNpGe7Ws/lWOIm6x1KLeuz33b14LHj7dUzt5k91/XT8q+Prwr0lOTZVFGv6zbqg9fqnLbKLtVGX1by4fvn3PZi/vu7tvazs0Y9O71W2rnP2dfacD18ye1l/fUppTpvmsrU4dk3yWXMu7tdbGWICo3eV3Mw6iPPWpyouOWnr0rdmp/Kd/z8nX/bX/d+1F/zrvs805gX7NP/4jfWuYaVVmlduG+3kEfW+bbWF8vnn2X/bsuJxUkw3dFvN9+bv72g/qLf/J27MOXTYJOzrMSMT7pvLcLKpdVGl6/pT7881ca01Ne09jqnvq0vF3L29vy+i2o33sn6km9Pab8v3+T33fz5mEzLunBMW3Bliy+ibEojR3efaA28QO171W+3GTvqD7ucEpd3Gr3PmZfvlK7I8Zeoh3+QOObqh2mNmO3jIrgi7br5s39eqz4Y53fRflpthmHysNT+qS8bSnna+sy+JPmdmWZ/pvGuXk5EEfxaydFvHu0gbX27OMjzdXf0vjrzXvKM4rvazGnLOPbpjTobG8Kvj+IMldLC7EeF7Rc30YRX5JBmc+vRdtUpaO8Judb2Z+LOWtL/5C3K+XZNUf0mz8p3pt8/5J9/bTJ1w805q7y9SYft3SV/X9a6+zTxiKi6uy595T+eQ/rOWHL2KWzbpT59a1Kx2tR38o8pKO8qPhO+Vi1IaJ/qK7ZyutD4wfRDlD6bt89ZOuisO6zbjvazTYu0deX6emTzmfigkrLTYcrjuMK22P2vhLgTb/GQvD1E3Xi1X3NDmrNj+zzm/IaOu4+fM4eafKRHzTJ/Vg1fAcnIbVwepWqTZp6K3DXg4F3WVu/uY8fVPmrhunJx8377EsZbi/WlbQ+Ka+olMIdHTvJ6UM5gNzWJ9PAsuxwbhqK5rUS+p9C0fzt87/Zp/tNo8cwx8Ol53eBc/LPYf+k+2v2Me9DOga/j++LPvO2bcyxGRBuJtLfs/u78nmd4406tTCaShAiV3Llv79veX7tRW5b2mp9bmvS12OJm+yvt5tJbwGNTapJyF9/Z2+bSqBKLm1KnapfpjHCzmN/fi5fIN5lza5+84KpNihfv3TefuH4+F6co6MlYcVEk+TZzNDHaiJXf3ZN/o1J+Ld/yzFEm2L20KSjje/32R3d0zbG+S7SvvOcTdxa86+e/82y9uVdcb51rLwJd1fxRawnt+3KmX2yPySXXgqwdZ7vxv3xfTl5fvu5vQ0X93b91oQmhoVyZrcsbn57lf2zq7XM5zE0HahxWplvZX39TWO8S/z8kr0r49WWTjHfufu3+fLuGfKsybpteZu1F7GyXbvZncd8/SR+a2uPf2af3xZxaZ8n7HJcW0CsZXGT3dx9yGq6KoLmKVV926mrp9ZF8ciq3buhueeX7Xu/P6yVQTtpXpeT3Tb48UNRT5rzooq95aHWPhzbJ63n282yWbZ9vevAmkNtoOBAfD+UcerSG3S2NzTvFLJvGxjkSu+O8FrZlI/WRTs/Ppf53C6faj7bprDv32/WymjjxYZgs3CLxgMtZX89rmnVgzxtLNLdxtTy9pj+eQ/7lJaCfXXj0L05fcYG+64RbbwoC3f3O3m97pduDi+gK/h1ff1zcsHt4TWnM8fas8y3Z5f09jie1ryNA4oqdWydq9vZBELXgKZpxaGbcEqv4wpFeP+W9NXad4i6zw14RW1L+qSXVyFiNC4dCyWlfbP+DFUbQbn9/MlHYPV2snGIZG7BzLcKaDAmbXKTKR/E02K4hrNZkh8F6605srRdmEbjMnaxCy9IMVY16FO5n0kBhmmFS8/vAuckI0jmNhzRh0gGqHvYRZ7CEF1z5MCZbzbjN5EnCoqeawRFn9K/I0wpwGO26suWiel4u2TKU63sZ5dIuh//RCSY5hTbjxZ2WsuPkglz2hj7yBPqrQUxomR7e9Eq8GCTTCVjSqE0GEhQ8wGMsMvdlSBV+CQsoOeYyhBDxdi2Ed4l2FUAxxRbByUYjQxNk2osGNZkKUHWKOeGNK6StsceY6m8P1ge2Abfk9Kebtw08EuMJgZ0itRxWTykcY3weEtlTq6ZoBDQ+CcXcxqhkT1bjNtsGMkGrNzAcArf9ne3TB5TqE+i+wHy1CjG/nMPixZhRYt5vrWyV/suKZjmge3aiI/DOQZykf/xPGzIQMxj9NJec8HTy3yNgYJJbtmE5N+w27yKFlhQvAoZLLa3iAsTIcEQU7VlYnXxPOui3UyWbFiFDevUh13fxk/11ysE2dIeDyAVgqT5WpcJrRpHtwV1qE2cmdh2mjuCqpeN4k6b8PS6KOY/ptnwYD2a0Lyl+FiYiakRx+X8kcpDI8urtisNot36K+hZHo7rkzbzbYna0q27aN5a3BMi6mUq4TQmtr0bX6pMeX3plH+HMITPCnF9TOkszmyQaT6pJGfzFRp5VmG/XzPQNgUeTai9ob/pQmznLc7t0qPfrJhSn97wCD1StFK3kNLPu2VfoXY1h+reWfrDXjxj/1zRs25citi34VNZmOoTknoDSnPRlrigqn0U19nXn4fLKS1rTmfEgGF8hECEI4yqvVGVQ8rDklW88TZOhb9Z6NfU7VkOTfjUGcTrI4Kfz1qGULruX5NguX7e4Rgm9NwiTdTYSL1SVAuWGo6DvfYug8HgTEcZ4JOJsfDKUiHs0XWEu1ZCUmX1g6KnSJN+Di4Wu94xGIZhmD+aFFHhNY/6nq4XoTRoLsfq4ZwmuMXHvYzEy8E4gF03dt2Lls5P9LX5h+Ck/r4fHf157dy+n7cnbikCvxhNjWiQvBI2xZtH/quYa/RJkAyDxgehp3fkzzZp4JdjObVm/7VgSBPNqRjCyabI7pIBlFlAQ8BFS361pfoJDIZ5GlLXzNO0PXeXYc37pbGOpHkIqax5euPOJ0ZdVktNCYUtbOVeDTVFo7doTLFWAfyQJv3b+qk9UN2eFHkeUN3ejCVp3jAfQpuZhWI+bkwQowBzmlBuHnPuMj8g+ZfqAyonm0evqL1aQLOsUgZzGgvXRsCJmMc0HBteLTT5XhexjYPUdf0dDTFok+NGkAfb4uPbgjoDDFua78GgW7hPr4sdF1bxoIrYZ76zBSXi2F5om5Y4PbFPEvPHSzFqC3okXiGewHBU2EcPbVj2vGFLcISpN4NylqRECIWWiujUbaxffKRwF320VQf6zbZCUXtwWxzW5yiqW13XRXnG/vkqiBCU9iNFWd5t/zaSj/e/AenN1fb1R3AxpWUihFJ+HvZeLSmoTS7oLqXPKkZiFVKnXn6GomPS8cCN8pCYKrXBiGCAca6spMFA/wj3oJYm5TiHRAXP2nJcjiQWDoPX9GmG5uXbvOGo30qWXqtej+S//uu/+OCDDz74OPPxfCzFOC2n84UmMZIqreVmcs10sVy/uA0sGtfIcuOYwFq/2D0/y+rhqrQ7UR2psGmwEfvlar0uVkuEcxum5ZUnzoQ0hZkryRIENo1H5cIQvkeT0PNMPwQJjSs9zEy7NJJ/IiMaZ+cfwiubyEgksyJmsbuoKfRoRBz4SPTJEfMKmrDRvCAfQwaUzmo8LRYxjITDKQVTXZxI4dVWPEb0nOmWZvT8ZX6oTMsVNZTGany8irBY6FApzEoGdWVrQvMdMX85/2j3MoxIvjm1dnVdfwOL6kdTjpTuIwR5lrbgSZypLnZB7YeZR75WRkqWcVFe5ba0X4whlGnRV8bhcrtNK1eZYyjqVX7m+hko0HLvjylCz4KmCAdOFmzx8vKcc++EykkpLGnUlVsj0SQXtK38/JO4VP98DaSbsuDqu+2fLOsofdWej6vt6/tzIaXlCsuoUjwesR06ZylebpbsvjVrJ8HCK96zicbUMMWWrTYa8VJ2t1YkS+oAJhuvtGehtgp0SI3hSxlonB1qsDfS78myfOMoqzDKsWMQba+mFCtzc6iT1NXzS/d//ud/+OCDDz74OPPxbNAAcTPX635dtvmFJgtbMzFmH6pDg+CtXSuNo+q8L8RR6zDKiZClCc/GAdKxDsfONVZnZEgyCeBbk3KXkdhO6cM2NSi5t/lTZ8LiBbiXe4GdGB6WQxWWbRVKr1NZr6YSw63rKvTVVkmxtXizAjJB4A+ht5oX2oOsQM/zwsei9EQrtoZLmporM+WJkf9NvaBUkIpVUdPO1ZxnK/NDBYX+J16/pBdbwyOD5j/0eaRMi4lmQDLIJ5qiDAid5cuZSWxW3LW0q6qDsE1+68NoLC7Zz1FtwZO4QF3sRIbh2JiOUmqrXFSOlNPQge2mVIQsisfzagiHEwe+oWAYzDCr7DdQ2zq3bZrnydAc40yrE58HyaB2wdHXq5eTaA7P0qGqOuzSbNyTSZZrpfZe0VQ/hseaEfkNeJb++bow/bZ2b3O45S6BJ3PFfX1fLqS0jKmzLz9SE6507QNuo27PUlP6vRmLfFS7joe6i/yFSSt1O5sKVGm3IEgGDVicYhCznxHGfXunOEJlRnN60hJOSZS1l89oVGr5j2Bc2YyRoFtmoUz2bMzmEZKVmAi4NFAQmU+dumu9qE6SYRiGeQaGo/VYor7tpsnmF1nsWmR6c6oS7gwcYR9yObegyjQZ8leYOAsaSohVkJdS/gwg6w4WIY3/fAfmlMqUOJ0EmE0N7DGb2soqcqArCjSayI2tORY03pmKLYZPHfOIrWjlR+naCv1AhVba4XL9oIhnvIAva1CPTrcMpdBaws+3/Iit4RIm1aBRpmfljyoVpDQX8ab1reFNzlXma6vW8u3TYmt4tJkrjBSxqJKguVFIhSalv6uXsjW8YNPmSq3t6tlajyPagqdwsbq4j/EUNk1gjdSBJkuQJCq7swjSzMeip0mN80Ltm+lhbitYmGoeH0nW4Q90uEKZ+5IKaMl4YsGjOhjMXcy00qwd1TfPmBb2sJ/K2k+FaNH2UFUIdXzeBVRXzvP2z9fD2dq/Q1xzX9+Tyygt42izRF7YszyizMWRMKZc0M+eZQTXdotVFLIJ19rzTm7LziY1sq3x2mii97O5Ktm2ULzDJk2N5fJLagy9AJ1WGNcd8Ejo+44iDcyiEznHoYg3Z2dAGGiu6snewcWmOVdrHpyiwMNyOoM7k5D4wj6Nkm8hGUxm8EMfpnzJEQPDMAzzMhkJHwk5O04OagizNjl/2GThNEhG5Qws6ON05MyMqofHy36OCiMXpjWncYcC25nhApsyOhhgTBMxw/YRhF65Y6Sno5aKdAFTcxGmQ+iuB72vXfQ+JHE5vqMx8RUWelktt3WXDnmErcdJf2OWW8iKVoTlLRCJBRLytPaiW4ZaaC3hBxEiyqvtreGCy5T5IZWPQi85RxhFVDbqJqpGUEpPQMLWbkTXrF7Q1nCBMMuVQxOgqoiNN4J8sqLx6LbgKVyyLu4jDTHTZhBeoKoVWKFQDmrHOYE7J7FwUrVQEaxXhQXwbYO6z5c9FxNmYrQZtTfBAna+yi2Fu2Xs9kRoIl+tlVp26g1oblxuCxk2HT39zvyy/vkXMRytTQVGpxiMPYUr7+v7cBGlpdiuu96KpRxnz3LjAbyHPctVDE83ijcgsgbP2b+NoG5nE53G+PsyxKh8WLxn5YZogMTb0xySxaYtXyH0TLjLQffgg8It7hwfvepjqDq7XsBPPc7mPZwGhdWWGergumyFxNUW/ny7d5VwsXo3Fb0JDSxn+Vv3vJMMfLgz7QQ7oacRuU2F7qzh1bHlGjqM3F3c85IujPzZiqLQX3fLJtQ1s1rSQMHQoWs0kKcJi3dMxGlAaYg0q8LhlbT2OM9cN6uE2pm4fx0pyrYCVX1ZZfuXskqoPY9rr4TOw7F514s0zvue8wW7mfiLSfJ6HLAFPbPUWU7LLaPXA403nn8pzQGGEJ7Uc+bbNge3WIWwrcWTFRNNRpWiBz7mzU54TQSXJkLixXAcekW+i+22F54QRe60ve8ZKjQxK7a67R02NkijRbkQoHu78iE6JSTsIwqmGo72J/UcCNNAedkXL/lt+JHWabP+INVqSsxh2/O8TairVyoFaeoaMLw2WV+ozNdWU/q2g2XDXudIpbwRH0IbxmxF117jjL67Dm6K2KZdXStqKS+6/Y3QPMm2Wr3H1zm2LXgK56iLpxD7JpV9laauV6IQTAOae4WQX5gCvQ0xnmydow3GmFrl/PeI9rqb6sUIDUOCuD3IVUy/iQ80b2z3HPWLucxY5Dn75+tAhlKWhb2OH2Mf5pET2Rfb1/fgAkrLFZYbN97QjrHEu+UBXNlrzzKNPBiTKeywsOcxF9699hb0bXuWwtDuU1m/3Yv2eXpLhKO/AmW8btyThQVzoWBmbA+a6giP2TnUcJ1Sh7c9gD/lKAM8A5JO6c7b4TncVm1UhHnuUWuIyWzbJkruzM/3sFhue9g6S1/SE9ko3ijS+KEgpQbFDrfiUFwjPMpSeg2fJvRntElxBMOJS/HwMEnPraa4IJELfTJDMrXh0Ewlpcpje0F/RctwAlfIe3qC98U/jRXVNa+fl+SLIiZ4NCnTaPA725lwrBDNPWHaZ4uibDtQn2yXpT38FwHVDW8e9Wz/xOSPJuwaDQhponG2NvOEvDsIhTmjvl3TNJqca/DaNYxHM5payDdixC7cuifeklXoU9tBH2QL+vF7Ty/OaL1UNN6ZeCfhHgXKBRlNzaI/Tz3YrQNrKneOhWRygYntaAqz3O47d9pfXESug1gtbZRX3oDj3V0euS3zPvSuOHFhe678tssQcsdL+TDeVasMBtX4Ydcm4GrZz2mU36YZShZwHQqQ+k3HVHvuMmphn1xayutx1BzyeB6NDZ5SljarKaOluqt0WitIU6QdW8MvU+Y3L1WiaLCrlBxS210Y90QqnWlSvy/PTuoghK3Q8mONZOGiKGIOzHq7Kupv6fzE66grq9CBlUwOp/fYtuAJnKMunsIqH9G6sGfFatw4qc+Dimuel2LuFcysfBViFIlVrrU4FRedRFsbeGmC2WyvclzZ48DvGGTDKV6czN3WsU3su7mJvKFmQbuAcvAcnGUs0iwg5+if93ByeRSO28qP3QRCFIdpRELWZshVA6ENu7XwLeHbc0hHKq8v19f3TOcFOZPSUigEq1V5Hty13Uj6hRrxYsXesqPQiNUfxb2B59Y8gA+QVmGujxAL34ZJgwFFsxGsFOjOgu7T0bVCP6nubcQriWvhLk8rzqNxuSw/WO4ZlElUMMtOTnQy9F88p8ZolkKnTnSfLfHKI95Q3ig7r5pydUxIlbyqfgnlWS7j9ZIZGYbnw1CGiBwDOlXIKO98UypDc8xoouqlI0xtH86WcMqBq9iaQSPNLS9b+WpG4Z1TeHvr8s4pjGa7sHQdOh2TiQ77iZoKlcIRTXfqmxRWswyNQMUDI6mPiYNLsmcl79WR0IDToQ6P8ojyfqiacGkg4VIDWw0Te/Nrhf4ySIXR9KdvzXoyNAmQhN2IoQJp2Mw4ahfmtngv1MI5yva+8K+cJMgHOv16rwGG1EYO6T9FGp6vepycd3ugAepm0QP1HX0V0ysaQ1TGowMaXO0s5Zeg530PsLBMOOEmXOHQwDBpgKAY8NvsgyXL9UA8WgSnrQBthtGIXn3CK1507fQoKvVboiEMZ7CcAMuUprEkq7ltwkvGawVLEO4qsjeDfpLtzgqPRIi8IFog3JmF1OMdNsY6wkGEiylVxMjRoBoeApp0iElrKszfGFO4IxfO1mt9Gi+uXVcGFN89ZbiZpw25y5YHS5S/2IVGkzxfeLLNn01ymenwRrP1OEJSpoWMUgd2KT+xSnguVnJRT15MwxaYL+I8jIpNvgRHvCQgIipTuo1FPaOTEI7tQTabttdpDJMrpUT2Uv83c+B5DmbGDEK/PpAn5QrBALOZX4yZqP0Wnm7tZWV2J4DvC1vfuzEcCvtCHo233Nr4KKW4mCYCqrsWPWtnLHpA9ofkIm0SRGMuygfPgzMzMFu/MFjRuHz9ACoHjQfUWDvkoX+PdsDTQFaLLeJDrXB0s40EZVrU/u4FF6eU+cOsHe60rjQaQJkUEpAoXp0SeFKe1dqBfHFA+bkXw9yElWfocCuXuIRoV00zyBeWeM5kJ95CgeMWgiR5G7k9QVF+i7JtYOqOaKLdb/x3TFsgqMtC1PltWVDZXC9yWWBRE+TpdbHZ7jXLe03+1C41+xh5YudhR74FXbzQU+vzIGo/FJrTNDPtQHl4Up80VKl9oxok2hFDI5lPoDTmZaJuVE6DDrO/DcxZbuK7oL6oiltFKuab+aeOPN3X3uTb/qkM1gcsqzh3LBRPqM8Q5bQPNC6bl4uvWscKAwUzXzhVikhuFuZroRe6AYPG5KOpDX/WXNB0TL+53HiH3tsO0M8744Xt54QtGXj6WKS7jTm1f+6mlo7Aw7yZjgN1YziufKr4MCc0x6f+y6O46HVN85Dqe9lN+OYEJvXtYjeApZerRom9be5oAsc1qV6nWJjUtwl9yDLN+xLhCMqmfjOmNrJ4kdaPS/T1fdL5XPxHRpSfTydyIWlO+aWDIU0GQnNnkJDMdajWZgXkQUYyFEXGdKrl3r/3Tr6SOXTVKvfwdzOkyUp4kndLanQUDW6qwKZK0d2mLbGghs+jBixaUebTAMw0D21pTjDXVVjhEIYfNga414lYYq/QAKUV4SHQndQGH1QpwzlclxouMbgQpyhvpxPq/GjQ1yYbYfzaELZkyu+dyCYNGOqmAiK4wozASqd2ks6LQhNTfk2XsKLZSc57xBZwd0yDlpVVlN+hRgOu7bCKa8JfsspyA6Vd0kBDR/hHemF8fsq4Dk3MQ2NXcXAEQvaiSRJe2S7suPbFUrS9ynWXi7INV1rz8Qxle2/4103kKNDiWaNdvSJOli1NLlwDphNjMJ3RQHF3stuku+9pKxviBZZPfcScBtWi7xlirKiY0kRQm+zaB6vakh12+rRuusIo2qeqHDdpibswnTGjsYR44SYGktVYggbEpmLQkL5ChRO6NLE4EHbX2I3GRLExxsJQ0CbWnXZ1lSAUK0dotlbY+htBpjGaYVAbU7dvJsx3KDR4Lr/WaYbZlafCa/N2n0qTE/FS2qvys+PZxCryMKMB91zEkcYbqjqFUY7FxPZL01nQZEncr8OayQjlNtlVsi2/tiDyey7TuG2wgONUYxxRzibQDQNa29IxsavAmlHfV6ZBpTJJ4xax6i5PRZ73TvG7yHuKu16mMQlpAmGJVc3FMyy7sgkWw5u4GImJyoAmgK5PE2qalNDEKB9v0STdoHFm0wTdftkvO8pUUy5UJmiSN5uHJFPxOBUqydUQKyVXHeWgs06tEFgyrBGN1Z88GI5gSwaGNK5ubZfysSH9diCPe5f53hRj/oXWMWYUK9BpbDvqiPdT8kyh8VZr+5m3AwfkLXbzuKNcKTmgibYr2tWgyvMpjedpAq3um6uVcwFRf0v7lv3ua6NPW9DVJpbld9nRJtbL5rF1kdqBfeWdGtp+bZ1Q4jgWrHmXRnlIeUFtjjo82H6ep08ieZPMZvqeeRmV2TnNx3qN5zvbwAGCfX3RuKtfKePb1e/U5K8ndK2awHNd+PNaORQLXSZSr3J41Fihrf1otvkVZ+s3RVLb5HhE2a84cizSp405rn/Wi7l8G13jmiPrW+xT/+WKhVUiiQr1X4Vyfks/EfsUF7eIc9kWiF1CE7lvP0mkwlkfjUmpLOR9c12eW0LfxyX6+trDO9PZO4LnQSgtmdN5/HCTvXr1Knv98KM8cyZ+PGSvKdxXNx+yx/LUn8z3hzfZDcnj9t3n7Ht5bouf37PH+/fZ3Q3JjK7759PX8ofv2cNrce4uu6/f+O3f7O7V+5Nl+/ixyvPv2f1d8cybd1+yn8XPOZtrfiWP2UdRjl59fAHlqIzr64fsqVITshd58pErTzvfH7I3eV255nJBdfdN0b625+NTy/ah8K+Yx4/Z7ZnqymV4wbJlGObqeHz/T7Ye1jHMn8TPx+zT67+yV3+9zf59bM6AfmY/af7z5cNt3t+++udT9hzV5NuDmG/dZHcfPmff6hMfwc+f2Y+v9+UY81X27kvzAoZhmOO5jPfwPwh5UrxBCvwgfzNzLpLAz9+qSEa7XZ0/iwieKTywT2FYKlpX3QzE2xcLrl3sL4jnpR2KyMdMCHKqr5dEp/ECM8vB0NHPIFuxld3Ol663bxPfIN7CiW3sikJ/jdKjvHiDlm9vL47KGLR4+1GdE9cu4zlmptjaPqH7JzA9scx8hciz8u3uYiuTKrbEdK7VXiL0ZzDy7fEUhqpj5jeX7hNJCNcSb5MozMkEuk3PLi/ajpMDzxbPVSCpxp7nlqQR/BldT+HqOoWvz+DXthHlb8aqt1KBmTvREc/pY384d9xDaVInImw6xFvujhfRq2WwTp/YYqNZLoI28xCrIr6TiVaESYeVy3wjh20HR+LNdCkbcVQR38pfA4tljPnMzMOb0P0Ts9g+I94w5qYLNJXkqcFqE2jvvOkqLwXC4+NkapZbcB1o1X11YQuZ0v2WXWzpE6sIdKXbRltRtmuH4cI1ts+Jsr0VTzrcqJSbqkItr8mJfeiTKczyu6NV97TFgWqCSK+IY5le3d7dOrRF3/CfUB/65ckxdViQIrQ1uk6YUSBqdaXVkHxJkT8kY3pGe9vTXTa7OUfeMQzDHGAVULtI7dJTtl8wzIskwdzQYAdDWK4NTW7OgITfgREUk8YR4mssRhUXRmznp/FBqNq5+aadhcUDYY5mCssqNvUmF3fpzjDMH0GpvGRO5ke5ku+cb4G/Zp/+EWG+zn75Qr1r4Mfn7I14g/iqx6rTxw/F28abj/nbxscPxZu+v27vsrs7Ot6+zz79+5A9fn/am7/mKsrv93flc99l1UvF1pWW+QpPuq6xQurrp3/y+7ev/5K9y8O8yf5685BV71erZ91Smt48VGcfs/firebOW9ZqNdpN7VqC4iFW8t7UwqVI5CtVb9dLo+jeW7r37n5zTRUn8Xy67vFjsZrq5uOewp+H23y+eAt7k91tLcM6YeVcueJMxGWdoz++ZB9EvOl8PfjvX97Rtbd0bpP3P6m83L76K3v7uRa3chXiRjZVfay/Ma7ksB3Xn5/f5te92koXXf1OXHuT3fz1JluL4ft9URZub7O7Wj48vhcybbQnx+RNR3nZftu9R9Y/KRx61rsv5XfB4/vs5lC+/PycvRVh/l3UveJUIY/Xtbz/fv+a0kxh1aLz7d8ijs36sn/FbJWG7XLcnt529oZ/lvqwP0/61eEWqpX4x6y07Gh79pbNxurxNk7LO4ZhmH48frzNPnA7wvyJVH39wfngY/ZBXPcMKy2rvr05zm3y/YHGenQdr7RkGOYc8ErLJzPExLQgI4brn8cra+XFVLFLz1J/OkMFWm752iUZ77MOHsNz3PyTbKiQkCLJVy1J0GfCcGxpSFfYpBj1sVDSH2E42S6WW+54E99i2O4EYySM5+5QOhpJJZjWxq5b5bktGkxhrS3qjiGLZaNxYUtoF33bgP1Yg6GLxVZixaM4QbKb2QhTDaYwrp0j7GDQs0K7vEZQOT9RoU9lkvMCc3+ORael4DLcnedPodPzQ8d+gndgYci6cNxjGfJGrlRe1NKx/5pVCNf0Eak6tJohlIFM8VITzC0XxSJZ8VmsQlRgmpXMJSjC67IwPr1+pdzuBGYwbPdNWTjGSyFRW7EWw2hcGJcW3kJr+TsuMrKwRZJzZN50lBc/6inoOIJPj06S2lrFsYqpcsCBy0ChONHf5WLtYW4wHOV2cIKa848kiXJ51u3RDHecuByDAusp6W3lXPXhnHX4iXS0PXvLJiX0kBSflncMwzA1xEptRdmslk/mNB42sG6GGeZPgsZQhdm4BHudakeL3JGtok/62Y98AmMaD+ZEu56eNyQI/YDir+c2KRmGYZ4KKy3PgaTDsRWkvt1rO+t+Iri2j1Sx+3sr++0ZQJl5mKkjBLMJVMPFIlrmHsSEly3huS+a29DVKexwBNXy4emi2x6KuTcxyj0bNhFevc6nG+i/Tfx4FIzbioLyNK/yY1kMPFK4Cyq0cYi5KLsqPas2vhAe8sU1wY4CSC5lOoQkS7liqpU4KOqEPEZTnTfOw6byHpxYaSIKW2SgKu+E3SQN/VwRB7lQom2gMpInkcqMcFGYRFjkFsVlSLVAJc2G51otXj2PQ2nPyPb8rTg6bw6EdwhZgUnVJ7DU3Bi02CI+j8cwPe3AYHgAeSK0ljHmpdYyCmgYPSSJzxelUjhC6MnQCi8RZ+KJ6W3j7PWhI45PrMPnpL1sMgzDPB/pUngvTamfoHEU9RuuFUCb9fMgzTC/HzLNLaY0TojhGjrc3ElNjVVSzH+MOSTDL7yxX5jhxIApXJkHJsyZcFSyPd8pvOhrsJY0J/PFoh6GYZinw0rLMyFW2rnTFO7MOWAHbB8JFqYBN5nAyTspZoMEzQ2oc3ZhjJfwbR2KLEMWh6LT4HaJsS48WwVw9c2qO3kqPNZHiOpvKIXXNlfH1E3Oa/tlRB10sdwSvmmj08HftbFM8L9JuaIqcgrbitXhRLntxlMXU6XLaHuA1UIaJQevaSMtltH2YhlvfNl1ESwpw5Jl6aHvxARfgPRCedONDMP3YU2pHtHgc+7Z9FwVqrnY81a9YKBMc7tKhU3ZCAtXxWym0YRzDl8ohSMazMpTiPHuNfP8MmcYhmGGExOzyZj6jJTGexEk24HKGkvmD2ak2lgEXr6QJXQNTHIb0cWh6sIOtgRjHsAzazuOLgqNEb0FfMeClMxha/I6PpKw123TeHvqIAxsTA+tKGAYhukJKy3Pxgiq7cOV5tD00xwORK4JM1Lhzp3NNj1mi4GkQrNseH6AOI7LI4DvuZjpKqRmjy0ZdK2BxJpQvpSKh9kcqeJgYXc49XkC9W3i/rw4d/VII/znoJwVyCYcsY2+eWinbTgZFktd9zNurn7sR6+wS0ajYjvuPhSxVI6O4spT1KiXYXChvNkiDWHrfqGoWy0RLcfQqT0LRP0KfJpE0hRybUpgHzImudbSxdyeU9ymUCdUZykJgU+DXBp4q9qpq2aEExr9sNOnk9mE/ywyPydiS6UdXlGpbXLpvGMY5vdAguYIEyMxAs/CWRflM8wLZUBj2KmY+3hF3ajmP4HvwbamNH597jepQ8g02Ju5Ho3rNvGJwwU8dwZ9Ip84zmMYhmmHlZZnRSguA0TeaV6pZd1DFNg8SDszwm6hs1jArxQOtoFJYSTmAmy2iR/DMirW9z0nxTOHMFSZZDTJFUuIYuwsEI1JdnVP38dA4RoiXBrUNMNdxuXzaXBzEuuwo904N5bQjhQa1IkPOzZ46HuuiKMBodj7LQaG+YUhwoaCbhXaMA8sn02W+d7ys3KxvNkixTJMC7FRmJrub168jGRo1gyquCY9/Cx5YlCuplTXfOgkzAG1hqpOCQgdOL6KyRPsG4ltR5d0RFmF/zwyPyOrtGYD9Tq5dN4xDMMwDMMwDPP7wUrLCzAYnDgpp/ue+10ZcwoJlhH9Gy/bt5evt4m3MBxDEYu0VulmVdTSh+MVH1cNpVARfvMp5fet07UvzctzPHiLjbpuFbmw6Zmy6cIUOsOBAsPRIKd03qmt2FoJG6tzDEZCg1NQBN/6kBZkmK7Yot9woiSM67u155ccG7ZuTzCktDk1bz552gp/TFib2hF54tC1gQuvZm90FflwgyEmjo3CFJBQOjuYDGM49DesBJHLIYaqVKs7JUhT8bdmYmAVwrNLpWXDxk91UeNsa3o338pPT86b8vvWaQmyMD+JUFgHEBpsRGKLjzglSB2485p6N4kppWo/Zb9crKwUzp8qfbQw4SAUmak6QZvOshnjCqmIJMIikogikkNtkWP/9LbTGf4Z60P77+X3rdO1L83Lm1TtSFQo7IWyXKKyuTd3usJsiwpRfD8Uke4rDuUdwzAMwzAMwzDMIf5DuBAvPzMMc4DIFVuXyi8lqhPC3XHznmCuq1hoLb/Fc8xsB8FqXDj5GE2gywGMWbXa0sT/dSL8H7Ox+tI0YToOth+vwnFk+qkRKdNHbAiNUQRXMpB6PiaxCydIILb/xukYU3MGczLeVpSnEXzHxTxcYpBvl1agGwbUMf20MKA046Q6CF2hODxAEuae3RdLoZtPkKxkaJQevfRs0xo2ycGPjYOrloXi0aaw1/KUNExWJmbClaKgFscVyd5xfESpeEFA8RioMCwT06ZdgRXJgfLIowgPJZLRgPLdskDi2pAIBZawJzQqnKzQNcZ0AN0sNaYib/57ivnfZmkns4LykfKLsnILlU7IJJPt0zUZHJs3XeUldJEXScoTm9LkLQdQxiQHSkueHZELxUmhS7FYxEppX2EltuzRtTty6iD2dNiUB15eBvMz8A0bie7C3NJaivKpbcdxq0wlCClelkdpVsZQKQyLInlSeltpD3/NE+rDUXHcW4c7iP38nhBjSNIUltPtKGm33Tq2bLa1caflHcMwDMMwDMMwTF9Yackw18JqJTRE5Rfm5SLWnnE+MgzDMAzDMAzDMMxTYKUlwzAMwzAMwzAMwzAMwzBXBdu0ZBiGYRiGYRiGYRiGYRjmqmClJcMwDMMwDMMwDMMwDMMwVwUrLRmGYRiGYRiGYRiGYRiGuSpYackwDMMwDMMwDMMwDMMwzFXBSkuGYRiGYRiGYRiGYRiGYa4K9h7OMMwO6cKAYgbltz6ocEIXk2H59Zko4hlhNAKSRIcfG5DL3146VR4Mh0Ok6QtK22qJhWNTfFMkcYKR4cDTe8Y8XcBQTERFhkL3Yxi/S4YyDMMwDMMwDMMwR8ErLRmG6UCG4YWI47g4fLM8b8KvzsUhfFMpz5/CCtHcQ5iUX49kOHEpDg7UJC3P/D4UafMwSV9S2iK4+gSzZArbMSClCULbQ9A3CcMJXCpX7jTB75ej5+ZpdYdhGIZhGIZhGObaYaUlwzA7LJcBhqYFUzm0dHII2TBhDgO6pzx1FCmWcxvRkxQvA4zKT78fLyttydyBEwG6PsFoqMJ0Z5i5JtRjV+AOyr/MHs5RdxiGYRiGYRiGYa4XVlqem+UcM33Wf2XRmhTBTMdsfpLmh2HOjjwel58OMcb41C28SYh5WH5mXjwJ5adQZFdKx7GqQVP7liPmKLjuMAzDMAzDMAzzm8NKy3MSudA1G6lmHL+yiCb6qqEhtTXoblSeY5hfQYqEiqA86luIhxjJVPyP3qKdYGHbYL3L74aM8e+79PVK4LrDMAzDMAzDMMzvz8Uc8USuAs05oMTQPMSzpj28FAtDwVE+QEYyphMNmjGFfEDPksx1qNYTpnoTF6GjirVE2yQLmFMTS83H3HyC54jIwZTCGDtzOJOXNfNPAxOKscjzQxkDyzCC5IRwn9s7C3MZIheS5tAHYdPygFOYNILvOJjHwGCwwgoSpqYJraqgsQ/ddBAum21EPewlFvaMvudfkCQryFMDhq5ivLV9OIIraXD6xKtB5ErUTpVfTB+BHMJxQySrJcJkDN2awZoUKwXbHeNUzy6hMGLhOaZ0KFM0YyqchYmV52JO6U1iSpBiwLZ1SLGHmROUzxthasxga1J+V0EV/hTmbIBosSRZJoiXI0wME5YmN3ZSJwhdB06wpPP0rIFK95mYCIE14mRYYwpvgVgoqGcu3K3nNkkR+RRukaFYrQCJ2juTnl/kaEMOFZU89rBaLuDMHCwo/bmyc6RCgU3PErc3HPEcKlcVK7rOduCFK4xGhYRGqomZLmP1S/KRSKgtpLgHS5EXCQYiPuYkL8tbjq9UkoW5gufOsaTrisfYsCnueUr61B2Sqe34SEmWo1WIiOoOIupXw+PqB8MwDMMwDMMwzC9FKC0vwc9vj9njozjus3d/v8pevSqO2w8P5Xk6vpcXN/jxtfz9/l32d3nfq5s32b9fyvO14/P9++zN3zdl+DfZ3aevZSgdfK/u3Y7X609ftsJdH18esk9v77KbKh4fH8uA6nzNPt3Sbzfvs7Zfj+XxvUjPbXYoKVfHj68ksy/Z/bvbjVwffpQ/Mi+ex49lvn7cX86/fsrubm6yNw+1Cv7tPntD5+4a9efxY1FO2qrV149Fvb75UP7480v2/oauv/1ENa7OY/axT7y6+PZvdifuL+P3szxd1MN/GvXwS/au5Vk/P7/N49psH768E9feZDd/vcnW4vh+Xzzv9ja7e/OQVafbn1elrSnPf7PXdP6mdn/eDt1RGLebuD1+FHXxLruv3VrESTyfrqM8zdu2m48NmdYpwt1+1rfs/g2du9uWw778bIWef0vX39bknv34kn0Q7WkznL7l6vsDnavLhuL/TxHeuy/VU545H/O4F+ksoHwVaby7r8m0jBOl569aeN/v7xpxL+iUNdWTd/Ssd1/K74LH95TP22llGIZhGIZhGIa5di62PXwwliHL4hhjsDbTqOYOGorzdHQsJBxK5e/jAda3TjRMlfJ87VCnFpxFkHswHiJFaOswF3s8E4zKeyV6+DpwDbqm7ISdH8oEuu1hbhcrQqVBsWqnTjK3YUeUulmPVSxpCFtXIInVOx0LUWVjRpKKYNtzvCgfC0OJZKZgaugUf+bPJIY3E9tWdej1lcLjKdV9IHRseHF57gCS7sK2ZrCnZa0aKJhQGGLFZ9AzjF4Mh+VqRQ2msVm5OKb6L9KzvaKt3THOYNhut3GQX5xCMi2sxTEaI29NogGm1mQdXvvzKpry1EDVDOliBr+0JhF7JKswhWbq63ZInmr0LGpzqouIIk7UXulTqq8GFnMf84WBrnWWRbilc53yHEUA0yJDYffN0B0iOIZD/+qwanLHUIG604D0LVcJ5paJRarANKv4SlC0KRRVL1ac5jxnPpZxT6l86eucwZT6HOqw1vm3jlMqwayFNxoXfY8f9ZRzHMGnRydJrfcYq9R/VuWcYRiGYRiGYRjmZXB5m5ZxiHn5EZKC8RE7heNos41bVaQ9E64BZMPGLJ/opliYM5q05j90QxO7RfkRitzYbrrLSNFyRdxoVE0lK8Q2RIrn0IDRYxt0EnrwQopcusq3WLYynMAwKCya0HobXcPLgWfGfy5xgNwkqzxGU/0zzr31RHCDnoV6IGOqa5BXIRa+B9vSYfviB6o/XXXnKcjSTpzPhdJq5JHaw7bTPRnLokVK4S6EPGOEc/FXpWfVKuBonCswU5J5U+Ull22ZeEkkdTZdMYIiQyn/ijNr6ESeo25AuXoCEZUV0U6rFHZxppu+5Sqhdj3vNihNtQsljdpS14LyBHkLTspH0QfmWUPXbWVNnjMIdpSRTysXkBWYEhBYVBYmOizx0i0ew/S0TsU0wzAMwzAMwzDMNXJxpWVCE7ZKfzic0ESy/HyYBMuwmsxJNFk8pBAUNt7EMixBAD/Yv0YxWW7iJalS66qbLcrJZtM5STJ38on3UFfzCfx+VpSm0m6ZUODueais6vnKUc95YastmT+adBmt61UXaZQcvCYnKVYlK4aHZKzCsD1YWvkbs2FJ8kwTFLqvCI6lQ9erw0GkkAyHJ75JSJeIDmcojvbBRKRJz5WDRO9ylSxL+5PX8+YkTUqFceTAWucLHU4EhfLm1KzpRobh+7CmMgbUz809m56rQjUX3JcwDMMwDMMwDPOiuLDSMkUcbFZLiu3dvREODUr9nlh5KPfRdo7k9bbkMIj3THJTRMVynBy1LfCVcPLQRBI+KGokCOdFOP3SFiPIV4oRdP3eJIlt1uJvOEfIM03mhTAc9VirOB7tOrLKKcw7FI53IriGDi+U4fgudGW8e0/nUuU/DInkSQ1TIR8ZpuPB85rHiavshqMeq0/H6O1ovkavslLSu1yNRsWW7YMqzudjMCiFI5twdvKFjr0OkPpSqzvUd0bLMXTbRxDH1Af7mE2GW6YEGIZhGIZhGIZhXgIXVlouEa73YKtiZ19/6tu3+67QrCsUw3jPqhKa1FUKUUxa4hXBlmVYdaOTCd1Dk/Ot1ZFptRVRg9ongpSmSlWqHbxBgpqvKguxOLjUiWGuBHkCYdlAGJ1cm4wtWcai0g1hUH3uIhUroIUuMgrhCAWMOt3e0rvWU0ZwZWG7sPz6ixErt5+bZd6IkTxVkudAxkQTgo8QNwWPGAv/8ErFdijcIkN3w13G+arGoUFtaHHmONZlJdopKztvjPqWq5GCaa61DBE2FHSr0IY533nSFpfIxwHFvcia3bgjXsA/U/u+rjsUpqb7VBJKRjI0S9hJTrFMuS9hGIZhGIZhGOblcFmlZd2epUITWzFx60kcLdaT7P32LGvUV0fSzc1575otO5vy7iqhSPwubW8FlwyEsQO1dmpF4eS6T2ncucUvjSNEUXEEC5r452dlDNN4fb5duTrAWC7WDAVh3J2WF0xKeezNjFyBK0kqTbQNzDyS0b7ErmIsXKu8hw7hKGlGE3SarS8DF5am0nkFEyvgrZBnp8qYfRkkw3RN+teF69dUNMkcrku/mi7MmoZLkov93uFS5NaS6oNWrKqmelkoeqJNeSjDEIhTK4gVhpvvJ1O7uR7O5nP9LJW5fAl0sjm7CuEJu7aCpH4tUX5tnC2/b5/dfGteLfDg1RyMrSIXtleX5wCK4UCTU7i2A2E2t2CFyLUxH9RWt5bBtz2ljeoZruvXlG4J5kWGwq1n6FFhy9DtCcXLg1Nz5pOnrcznjTj7lqsRppT+yTCGU5fDKiK5xNSXVG+onjEfBwoMh8p1SulyNmZJijjNMaj1M23hrb83TnfWHUHqwJ3XWsBEvMRTMTmmE2YYhmEYhmEYhvnF/IdwIV5+PjvJXIdqFZPAoekjNGqT272kWBgKzEIjCGs+h95nJWNkQ9JoJi8YmpiH7R5x6/GC4SOuT7pparcwpzAXGvxYTJK7iV0FU4emoDqFYbVdSZNSSYNTfmtHhRO6NMkuv9ap0rMnLVdJuoAhvKPTR5Um6e5O4paYWzrlK/1uOZhpMkYDmpPHCzj2DF44hubSebVh9DP2oeszhKkMzZnBVMd0jwfLKJUTNIl3KB8CzcIcQ5jzEMaLEdqVUsvLdkyqJy1e85MQnuNisQQGgwTJivLMNKHveEJJENoWLG+JgTKGatiwqmuWAVzhFZqqqiSNMBhTvTTHCEyD6swAU9eHtZpBKRqKNe1lrp3IlagslV9KVIonHKeR5lo6E6Fssuj7qFh5PZBgTAfQzVLTJur0f08x/7spN5Pi74igt1DphEzP3D5dPU+0IQZSz8ckduEIW72rJeJ0jKlJdWAybrzQSRH5QmEVYjkYQfyn6AYMqivtebmn/dmC8smjcIsMRZKsqLpRenSlsAfcUU5MP8ahZn8V+bCprASrceGohtrMycrErDKloVL9doVyk+hbrlbCQZoDjy4cSiQjyiPNskDi2vCs+UikFCeK+zyksi6cII0U6IaBImuMnXJMD4FJYW6HV8+vjroTuVCoX9KlWCxipbSLl3lF+qdSx9s1hmEYhmEYhmGYK+SCSssVwpks9Hk5Ok1eW/V6rUSwaeKaqx+HNOkLW5QiLcTeFFO7XLEzcRE6ajHR3SJFYCowyr3niuHCrJZPrsTE3C4UA5qHaKbsWeFZC8f0ER9UyG7S1FuBS5NPKdeo0H3RDMoR8800oAm6Md+s6nkKQ2Fb0CptxfVgr9KyUgqnUOwA3rShbCA5OVMNbizB8Oe1VXkxPG0KmybhQ4PkV1M0r5XQkgF/bmIY+AhSmqQLRxTlNQxzecRSOC5xLx/OR4ZhGIZhGIZhmGvggtvDa05ncKQ9y3x7dklvj+Npzds4oKhSi8JSULezCYSuAU3TikM3C4UloVCE909bV2s/IOqWocsOalvSJ728ChGjMUlOkBS2yo5gqNoIyu3nTz6CIxSWB0jmVq6wFIpYY9ImN5nyQTwthms4WNtliwK45RdZ2i5Mo3EZu9iFF6QYqxp0Vlgyzw6XuN8DzkeGYRiGYRiGYZhr4HJKy5rTGUgKxu0axFaEM4RqhaCwQdZrCrmKN97GIUGVOhSJdXuWYhWn8K66PiL4+X7iIZSu+9ckYvdqyeEYJvTcIk0qhd1zUry+LEJutuxIBoPBmY4ywCcTYyH2+gpUKhMd4a6VkKkLPyi0tWnSz5HIYtcLCcMwDMMwDMMwDMMwDPPCuNj28Oe2Z7kKLMhGqY5UbATetLC11mDLnmWLLcrCttgYfkzhlefa2dirPGxDr5amPXHbobbNuo9tuKuha3t4QnmpWoUyu26nrsl6WzxR5ZGw00bnhOJyR96161UnoN96Sbc3//Vf/1V+YhiGYV4a//M//1N+YhiGYRiGYRjmJXEhpeW2PUvNizDrbZCxZs8SBg45wylIMNdVFLrIIQw/3PJQvGE7XhM3hFN3B07kznViu8MeZp0jlJarEDNZh3js0Jwj7Osd5ndTWtaVkX2VluvrNjYtm8rmtSJ6SOUmOM72J8MwDMMwDMMwDMMwDHN9XGh7eIywZs9S6doH3EbdnqWm9LNnGfm5h2HBUHc7FJaCup1NBaq0qzKTjADRQYWlYIRxYXDyMHGEyozmVOmpsNxCOuMW7V/IaHS8bczxqMwLCbplIrdm6dmYzSMkK2HH1IVli8yXYbgWKywZhmEYhmEYhmEYhmF+Ay6jtIyjfJVdjrBnecRu3TharG0X9rNnGcG1XeQueGQT7j4X5Vt2NlW0m60c9LOhWbsqSfYbnNykSYNa11kuQ3hegE4rjBRuEfJI6PuOIg1MSJJ0nkOxN3J7CqMxlEobvE5bGxvrlWrNg1MUeFhOZ3BnEhLfpN8UTKwAg8kMfujDlFljyTAMwzAMwzAMwzAM8ztwEaWlcKSz9uOt9PX+Lah7AJegHNJ2rmJ4ugFHbBmWNXiOsXcreRIHm3ipx8SrjSFG5cPiyo14KwnioHwqyWKz6HSF0DPhLgfd9i0p3OLOMUaHl35uMVSddk/gpxxn8x4uQ632uMcxkg6xxVG1bFaDvt6+L1bvpsBIgqrN4PqUl8J5UuDDnWmQj5TPqURuU6E7Q9hIx841dBi5x/TnRdhnFc9WFIX+ulh7Yr9yVssFbEOHrk2gqDq8YyIuTBOINKvC4ZW09jjPXDerhNqZuH8dKcq2AlV9WWX7l7JKqD2Pa6+EzsOxeXcR9vbB3aSx6OPOLxOGYRiGYRiGYc7DBZSWKyw3bryhbS0tPMCWB3AF8p5b08iDMZnCDlMMFQtzbwZlr46T4lUpwwjtpG3a24yq/eFRsmfSkyCpHquM1wrKZGHBXCiYGUrnyk7hMTtHlfs57mnQ7gn8lKMM8AxIOqU711vO4bZqoyLMXaGqHWIyM7a2ew+EEHwPi+WK5qi1o/j5WZCNwtO8b5YnUh+mHW7FobgmgE3FQzJ8mtDH+22eXojhxKV4eJikL2hKHrnQJzMkUxuOIVEdCGF7QX+lwnACV8h7uq9OMjkrqmteuGfF8zOxojxWNWhTag+bbwCoZkVzD2EjkkXZdqAmT83l9vBfBFQ3vHnUs/1bIaQGSdOmUGbb7dWTOCHvzolQmM5tHYps4tj3QqtwhsmU4i5konmbF5oMwzAMwzAMw1wNZ1JaCoVgtSrPg7u2G0m/LONyxd6yY6IkVn8U9waemzuryVEGSKsw10eIhW/DnCg0ybARrBTozoLu0yF1KNaS6t5GvJJ8hUV5LE+bwo3GcmFvMVh2b/GGBFkrFVaJULCtEM8taLMUuutgn6Pr5bLQ4A7ljbLzqkmLvA6DjSIkoTzLZbxeiSPD8HwYyhCRY0C354iEXIR9ymiOmabBS0eY2j6cLeFImOgKPWNB+S9DlmtHvppRod8t2DSJb5+7pogWLixdh07HZKLDfuJsWqVwxArU1DcprGYZGoGKB0ZSHxMHl2TPSt6rI8HccRCB8ojyfqiacGczuGYfG7MNfq3QXwbpEnM7+vVKy8EQkrAbMVQgDZsZR+3C3BbvhVo4R9neF/6VkwSwF0lHv9pkgCG1kUP6T5GG56seJ+ddO8IRnhkc1j7mK22VCYyZA98LO9r8/Sxrpmiok8KT9d8MwzAMwzAMw5yd83gPr3t77mJowA93PYGvPT/3ZSRDUWRMpxomh2xeJnPoqnXQHuPQ9BGe5Jo7gqNocFMFduBh2jmDXmJh2/AWAaLVGMpEh2ke2tJceUTf5w39uhATScXcrLLdYsdb+ApJOIfreliEy2LySHk7nWjQjGmrbFaRA0NzD9vXlE34ft1UQARXmBFY6TTBpfOi0MSUX9MlrOg0b+NiC7g7DjBbWZ2ey4trDniWvziVl3uSSbzffMKvp4zr0MQ8NJ5kvkHIXjRJL8rr/jNTtL3KdZeLsg1XWvPxDGV7b/jXTeQo0OJZo129Ik6Q7fFtZlUGVDihi6Oa2hXda5hw4gGmMw/2vjeIDMMwDMMwDMP8GoTSkjmdxw832atXr7LXDz/KM2fix0P2msJ9dfMheyxP/cl8f3iT3ZA8bt99zr6X57b4+T17vH+f3d2QzOi6fz59LX/4nj28Fufusvv6jd/+ze5evT9Zto8fqzz/nt3fFc+8efcl+1n8nLO55lfymH0U5ejVxxdQjsq4vn7Inio1IXuRJx+58rTz/SF7k9eVay4XVHffFO1rez4+tWwfCv+KefyY3Z6prlyG02R7fJtZlYHX2S9vahmGYRiGYRiGOTuX8R7+ByFPihVhgR+cdZtlEvi5B3bJmFz56rjnIIJniq18UxiW2r4ldDCCPLXg2tP8azwvnUFFPmZCkFN9vRU/jReYWQ6Gjn4G2Yqt7PaebeIbCgc9ChSF/hrl1sTScUzTYU/lRCc/6NplPMfMFFvbJ3T/BKYnbNmtEHlWvt1d2I5VNQt+p2G2JUJ/BiPfHl84uJn5LfbwkhCuJey8UZiTCXSbnl1etB0nB54tnqtAUo09zy1JI/gzup7C1XUKX5/Bj2r7McVq7XzFFBGYuRMd8Zw+jnRyxz2UJnVSbP3XLQ9hh72G1TJYp0/X6K/lImgzD7Eq4juZaEWYdFi5zDdy2HZwJFZ8lbIRRxXxrfw1sFjGmM/MPLwJ3T8xPUQU6CryCtMFmkry1GC1CbR33nSVl4LYp2dPKxuADrTqvrqwhUzpfsv24MwM6MIxktLt8KYo27XDcOEa2+dE2d6KJx1uVMpNVaGW1+TEPvTJFGb53dGqe9riQDVBpFfEsUyvbh+w1dk3/CfUh355ckwdFqQIbY2uE2YUiFpd2efsq8gfkjE9o73t6S6b3Zwj7xiGYRiGYRiGYfZQKi+Zk/lRruT7J1sv7nsyX7NP//DqkTU/Pmdv8tU0PVadPn7IV/e8uvlIUhRfxX2vsr9u77K7Ozrevs8+/fuQPX6vr4k8nuaKoO/3d+Vz32VfyqBbVw3lKzzpusYKqa+f/snv377+S/YuD/Mm++vNQ1YtFK2edUtpevNQnX3M3ouVc/98ytO9oVqJdFO7lqB4iJW8N7VwKRL5StXb9dIouveW7r2731xTxUk8n657/Fisprr5uKfw5+E2n3+fvaFzd1vLsE5YOVeuOBNxWefojy/ZBxFvOl8P/vuXd3TtLZ3b5P1PKi+3r/7K3n6uxa1chbiRTVUfX2Xvqsxdy2E7rj8/v82ve7WVLrr6nbj2Jrv56022FsP3+6Is3N5md7V8eHwvZNpoT47Jm47ysom7YI+sf1I49Kx3X8rvgsf32c2hfPn5OXsrwvy7qHvFqUIer2t5//3+NaWZwqpF59u/RRyb9WX/itkqDdvluD297ewN/yz1YX+e9KvDLVQr8Y9ZadnR9uwtm43V422clnfttLaZe6nKAPeVDMMwDMMwDPM7wistn8wQE9OCjBiufx6vrKvQh3Cgrdiz42x0/a4MFWi5MyOXZNzt8giUB57j5p9kQ4WEFEm+akmCPvPgeXTYFnRtAnl0giHLPYymNuxiueWON/Ethu1OMEajtvWjpaORVIJpTdYrTEdj8SAgGkxhre2wjSGLZaNxiGXrgis9d26zZqzB0MViK7HiUZwg2c1shKkGU6/Wn8qYavSs0C6vEVTOT1ToU5nkvMDcn2NhdFmgLMPdef4UOj0/dGx4e1eW7SOCYxSOeyxD3siVyotaOvZfswrhmj4iVYeWGzUtGMgULzXB3HJRLJIVn8UqRAWmWclcgiI8DNO9k3F1b7sTmMFwXH7aJvd8T+VRorZiLYbROF+hSxmJaS1/x0VGIlxn5JF501Fe/KinoOMIPj06SWprFccqpsoBBy4DheJEf5cLhOWjBsNRbm8xCOJ1nUiSKJdnLRuoWuwN+QAKrKekt5Vz1Ydz1uEn0tH27C2blNBDUnxa3jEMwzAMwzAMw3TDSstzIOlwbAWpb/fazrqfCK7tI1Vs2N2eff4wBlBmHmbqCMFsAtVwsYiWSFfC6zgd6RLR3IauTmGHI6iWD08XSoOhmHsTI7TpBIVn+/PpBvpvEz8eBeO2oqA8zav8WBaavRTuggptHGIuyq5Kz6rpIISHfHFNsKMAkkuZDiHJUq6YaiUOijohj9FU543zsKm8BydWmojCFhmoyjthN0lDP1fEQS6UaBuojORJpDIjvBYnERa5pycZUi1QSbPhuRaUJ1ZJpT0j2/O34ui8ORDeIWQFJlWfwFJzp2Fii/g8HsP0tAPOkQaQJ0JrGWNeai2jwM+VZZgvSqVwhNCToVFdPh9PTG8bZ68PHXF8Yh0+J+1l8xKILe5im/zuQV0fIqfYot48zPm+F1YMwzAMwzAMw/yOsNLyTIiVdu40hTtzDtgB20eChWnATSZw7OnVTGavAwmaGyCauzDGS/g06VVkGbI4FJrs0oR2rLuYC0WWvll1J0+Fx/oIUX2+u0oQujqmbnKWlbFrRlPYxXJL+KaNFzPHXib436RcURU5hW3F6nCi3HbjqYup0mVE0thPGiUHr2kjLZbR9mIZL8pP3QRLyrBkmduSFQq4ayG9UN50I8PwfVhTqkfLEHPPpueqUM3FQbu9A2UKnf4WNmUjLFwVs5mGIebwhVI4CuHJUyidWu7r4Pll/icxhGKVK98bh6VR6TOd1t+c6aFXEwzDMAzDMAzD/G6w0vJsjKDaPlxpDk0/zeFA5JowIxXu3Nls02O2GEgqNMuG5weI47g8Aviei5muQmoqEySDrjWQWBPKl1LxMJsjVRws7A6nPk+gvk3cnxfnrh5phP8clFok2YTTojDwtP1r7LoYFktd9zNurn7sR6+wS0ajYjvuPhSxVI6O4spT1KiXYXChvNkiDWHrfqGoWy0RLcfQqT0LRP0KfMwmw5opgX3ImORaSxdze05xm0KdUJ2lJAT+An7gQdXUk/Jb5IlYoXfQ6dPJbMJ/FpmfE+H8xg6vqNQ2uXTeMQzDMAzDMAzzO8JKy7MiFJcBIu80r9Sy7iEKbJx15yST2y10Fgv4lcLBNjCRT1ObHGazTfwYllGxvu85KZ45hKHKJKNJrlhCFGNngWhMsqt7+j4GCtcQ4Qa74S7j8vmTU2oLsQ472o1zYwntSJkWeRIljdWC9D1XxCmYir3fI/FXfA8RNhR0q9A+uEU1WeZ7y8/KxfJmixTLMC3ERmFqur958TKSoVkzqOKa9PCz5IlBuZpSXfOhkzAH1BqqOiUgdOD4KibK6csUU5Jvetbl0dtU4T+PzM/IKq3ZQL1OLp13DMMwDMMwDMP8frDS8gIMBidOyuk+3nX4EkiwjOjfeNm+vXy9TbyF4RiKWKS1SjeropY+HK/4uGoohYrwm08pv2+drn1pXp7jwVts1HWryIVNz5RNF6bQGQ4UGI4GOaXzTm3F1krYWJ1jMBIanIIi+NaHtCDDdMUW/YYTpWQO1609v+TYsHV7giGlzal588nTVvhjQlIFJfLEoWsDF17N3ugq8uEGQ0wcG4UJWaF0djAZxnDob1gJIpdDDFWpVndKkKbib83EwCqEZ5dKy/WDS8qvjbOt6d18Kz89OW/K71unJcjC/CRCYR1AaLARafLGZmXqwJ3X1LtJTClV+yn75WJlpXD+VOmjhQkHochM1QnadJbNGFdIRSQRFpFEFJEcaosc+6e3nc7wz1gf2n8vv2+drn1pXt6kakeiQmEvlOUSlc29udMVZltUiOL7oYh0X3Eo787F+vmHo8owDMMwDMMwzAvjP4QL8fIzwzAHiFwJmlN+KVGdEO6Om/cEc13FQmv5LZ5jZjsIVuPCycdoAl0OYMyq1ZYm/q8T4f+YjdWXpgnTcbD9eBWOI9NPjUiZPmJDaIwiuJKB1PMxiV04QUKT+yXidIypOYM5GW8rytMIvuNiHi4xyLdLK9ANA+qYfloYUJpxUh2ErlAcHiAJc8/ui6XQzSdIVjI0So9eerZpDZvk4MfGwVXLQvFoU9hreUoaJisTM7/4vR7HFcnecXxEqXhBQPEYqDAsE9OmXYEVyYHyyKMIDyWS0YDy3bJA4tqQCAWWRXEcFU5W6BpjOoBulhpTkTf/PcX8b7O0k1lB+Uj5RVm5hUonZJLJ9umaDI7Nm67yErrIiyTliU1p8pYDKGOSA6Ulz47IheKk0KVYLGKltK+wEjZl6dodOXUQezpsygMvL4P5GfiGjUR3YW5pLUX51LbjuFWmEoQUL8ujNCtjqBSGRZE8Kb2ttIe/5gn14ag47q3DHcR+fk+IMSRpCsvpdpS0224dWzbb2rjT8m4fIp7uuO1Z27S3FyWH5MYwDMMwDMMwzIuBlZYMcy2sVkJDVH5hXi5iyRfnI8McS1+lJcMwDMMwDMMwfwastGQYhmEY5gpghT/DMAzDMAzDMBtYackwDMMwDMMwDMMwDMMwzFXBjngYhmEYhmEYhmEYhmEYhrkqWGnJMAzDMAzDMAzDMAzDMMxVwUpLhmEYhmEYhmEYhmEYhmGuClZaMgzDMAzDMAzDMAzDMAxzVbDSkmEYhmEYhmEYhmEYhmGYq4KVlgzDMAzDMAzDMAzDMAzDXBWstGQYhmEYhmEYhmEYhmEY5qpgpSXDMAzDMAzDMAzDMAzDMFcFKy0ZhmEYhmEYhmEYhmEYhrkqWGnJMAzDMAzDMAzDMAzDMMxVwUpLhmEYhmEYhmEYhmEYhmGuClZaMgzDMAzDMAzDMAzDMAxzVbDSkmEYhmEYhmEYhmEYhmGYq4KVlgzDMAzDMAzDMAzDMAzDXBWstGQYhmEYhmEYhmEYhmEY5qpgpSXDMAzDMAzDMAzDMAzDMFcFKy0ZhmEYhmEYhmEYhmEYhrkigP8fcsH1QJhL0GQAAAAASUVORK5CYII=)"
      ],
      "metadata": {
        "id": "nJnEYg2_tCi-"
      }
    },
    {
      "cell_type": "markdown",
      "source": [
        "- VD: Một tài liệu gồm 100 từ trong đó từ \"gấu\" xuất hiện 5 lần khi đó TF(\"gấu\")= 5/100 = 0.05. Giả sử ta có 10000 tài liệu và từ gấu xuất hiện trong 100 tài liệu thì IDF(\"gấu\") = log(10000/100) = 2 -> TF-idf của \"gấu\" sẽ bằng 0.05*2=0.1"
      ],
      "metadata": {
        "id": "eqmDA0n-tZ8C"
      }
    },
    {
      "cell_type": "code",
      "source": [
        "#Import các thư viện hỗ trợ\n",
        "from collections import Counter\n",
        "from scipy.sparse import csr_matrix\n",
        "import math\n",
        "import operator\n",
        "from sklearn.preprocessing import normalize\n",
        "import numpy as np\n",
        "import warnings\n",
        "warnings.filterwarnings(\"ignore\")\n",
        "import math\n",
        "import re\n",
        "import os\n",
        "import nltk\n",
        "from nltk.corpus import stopwords #Import thư viện có các stop-word được định nghĩa sẵn để giúp hàm tự code giống thư viện hơn\n",
        "nltk.download('stopwords')\n",
        "stop_words = list(set(stopwords.words('english')))"
      ],
      "metadata": {
        "id": "6Xlvgo_EtUF8",
        "colab": {
          "base_uri": "https://localhost:8080/"
        },
        "outputId": "a59f2dcd-5826-4d69-e4a5-65f558897fd4"
      },
      "execution_count": 7,
      "outputs": [
        {
          "output_type": "stream",
          "name": "stderr",
          "text": [
            "[nltk_data] Downloading package stopwords to /root/nltk_data...\n",
            "[nltk_data]   Package stopwords is already up-to-date!\n"
          ]
        }
      ]
    },
    {
      "cell_type": "code",
      "source": [
        "#Hàm phụ trợ để giúp tách các từ trong câu và có 2 lựa chọn :\n",
        "#+ Không cho các dâu câu vào \"từ điển\"(Dictionary) và các từ \"stopword\"\n",
        "#+ Cho dấu câu vào từ điển\n",
        "\n",
        "def all_lower(lst):\n",
        "    return [x.lower() for x in lst]\n",
        "\n",
        "def word_extraction_TF_IDF(sentence,option = 'A'):\n",
        "  if option =='A':    \n",
        "   ignore = ['a','i'] \n",
        "   #ignore = stop_words.copy() \n",
        "   words = re.sub(\"[^\\w]\", \" \",  sentence).split()    \n",
        "   cleaned_text = [w.lower() for w in words if w.lower() not in ignore] \n",
        "  else:\n",
        "   cleaned_text = sentence.split(\" \")\n",
        "   cleaned_text = all_lower(cleaned_text)     \n",
        "  return cleaned_text\n",
        "\n",
        "#Hàm tạo ra \"dictionary\" với các thành phần trong đây là duy nhất\n",
        "def create_dictionary_TFIDF(sentences,option = 'A'):\n",
        "  Dictionary =[]\n",
        "  for sentence in sentences:\n",
        "    temp = word_extraction_TF_IDF(sentence,option)\n",
        "    Dictionary+=temp\n",
        "  Dictionary=sorted(list(set(Dictionary)))\n",
        "  return Dictionary\n",
        "\n",
        "#Tính toán giá trị IDF\n",
        "def computeIDF(sentences,option = 'A'):\n",
        "  idf ={}\n",
        "  vocab = create_dictionary_TFIDF(sentences,option)\n",
        "  for key in vocab:\n",
        "    count = 0\n",
        "    for sentence in sentences:     #Duyệt qua các câu trong tài liệu\n",
        "      if key in word_extraction_TF_IDF(sentence,option):\n",
        "        count+=1\n",
        "    idf_key =  operator.add(1,math.log(operator.truediv(operator.add(1,len(sentences)),operator.add(1,count))))\n",
        "    idf[key] = idf_key\n",
        "  return idf   \n",
        "\n",
        "def TF_IDF_transform(sentences,option = 'A'):\n",
        "   if isinstance(sentences, (list,)):\n",
        "     idf = computeIDF(sentences,option)\n",
        "     dic_voca = {}\n",
        "     idx_lst =[]\n",
        "     key_idx_lst = []\n",
        "     values =[]\n",
        "     vocab = create_dictionary_TFIDF(sentences,option)\n",
        "     for idx,key in enumerate(vocab):\n",
        "       dic_voca[key] = idx\n",
        "     for idx,sentence in enumerate(sentences):\n",
        "       word_freq = dict(Counter(word_extraction_TF_IDF(sentence,option)))\n",
        "       for key,freq in word_freq.items():\n",
        "         if len(key) <2:\n",
        "           continue\n",
        "\n",
        "         key_index = dic_voca.get(key, -1)\n",
        "         a=idf.get(key)\n",
        "         f = (operator.mul(operator.truediv(freq,len(word_extraction_TF_IDF(sentence,option))),a))\n",
        "         if key_index !=-1:\n",
        "           idx_lst.append(idx)\n",
        "           values.append(f)\n",
        "           key_idx_lst.append(key_index)\n",
        "     return normalize(csr_matrix((values, (idx_lst,key_idx_lst)), shape=(len(sentences),len(dic_voca)))).toarray() \n",
        "     #Convert thành mảng bỏ toarray cũng được sử dụng normalize dể chuẩn hóa lại tiện với so sánh với kết quả  vì thư viện Sklearn áp dụng chuẩn hóa L2 trên ma trận đầu ra của nó.\n",
        "   else:\n",
        "     raise ValueError(\"Input must be a list\")\n"
      ],
      "metadata": {
        "id": "LLurQYDftxam"
      },
      "execution_count": 8,
      "outputs": []
    },
    {
      "cell_type": "markdown",
      "source": [
        "##Cosine"
      ],
      "metadata": {
        "id": "8nNqfE8luz8l"
      }
    },
    {
      "cell_type": "markdown",
      "source": [
        "- Độ tương tự cosin là một cách đo độ tương tự (measure of similarity) giữa hai vectơ khác không của một không gian tích vô hướng\n",
        "\n",
        "- Cho hai vectơ chứa các thuộc tính, A và B, độ tương tự cosine, cos(θ), được thể hiện bằng tích vô hướng và độ lớn là\n",
        "![image.png](data:image/png;base64,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)\n",
        "  - Với Ai và Bi là thành phần của vectơ A và B tương ứng."
      ],
      "metadata": {
        "id": "7xs4xlFhuWFu"
      }
    },
    {
      "cell_type": "code",
      "source": [
        "import math\n",
        "import numpy as np\n",
        "def cosine_sim(u,v):\n",
        "    return np.dot(u,v) / (math.sqrt(np.dot(u,u)) * math.sqrt(np.dot(v,v)))"
      ],
      "metadata": {
        "id": "WBWhp71Yu9IP"
      },
      "execution_count": 9,
      "outputs": []
    },
    {
      "cell_type": "markdown",
      "source": [
        "#Test hàm tự code và so sánh với thư viện"
      ],
      "metadata": {
        "id": "C2QcktNUvRwF"
      }
    },
    {
      "cell_type": "markdown",
      "source": [
        "##So sánh chuỗi mà không dùng thư viện hỗ trợ với 3 thuật toán\n",
        "- Levenshtein. \n",
        "\n",
        "- Hamming distance.\n",
        "\n",
        "- Jaccard"
      ],
      "metadata": {
        "id": "S7dbnUxHw2Ge"
      }
    },
    {
      "cell_type": "code",
      "source": [
        "!pip install levenshtein\n",
        "!pip install simphile\n",
        "\n"
      ],
      "metadata": {
        "colab": {
          "base_uri": "https://localhost:8080/"
        },
        "id": "74AXpxkbyxc1",
        "outputId": "dec888ad-420b-4e4d-fc99-dd9bd6a51b0f"
      },
      "execution_count": 10,
      "outputs": [
        {
          "output_type": "stream",
          "name": "stdout",
          "text": [
            "Looking in indexes: https://pypi.org/simple, https://us-python.pkg.dev/colab-wheels/public/simple/\n",
            "Collecting levenshtein\n",
            "  Downloading Levenshtein-0.20.9-cp39-cp39-manylinux_2_17_x86_64.manylinux2014_x86_64.whl (175 kB)\n",
            "\u001b[2K     \u001b[90m━━━━━━━━━━━━━━━━━━━━━━━━━━━━━━━━━━━━━━━\u001b[0m \u001b[32m175.5/175.5 KB\u001b[0m \u001b[31m3.8 MB/s\u001b[0m eta \u001b[36m0:00:00\u001b[0m\n",
            "\u001b[?25hCollecting rapidfuzz<3.0.0,>=2.3.0\n",
            "  Downloading rapidfuzz-2.15.0-cp39-cp39-manylinux_2_17_x86_64.manylinux2014_x86_64.whl (2.2 MB)\n",
            "\u001b[2K     \u001b[90m━━━━━━━━━━━━━━━━━━━━━━━━━━━━━━━━━━━━━━━━\u001b[0m \u001b[32m2.2/2.2 MB\u001b[0m \u001b[31m14.1 MB/s\u001b[0m eta \u001b[36m0:00:00\u001b[0m\n",
            "\u001b[?25hInstalling collected packages: rapidfuzz, levenshtein\n",
            "Successfully installed levenshtein-0.20.9 rapidfuzz-2.15.0\n",
            "Looking in indexes: https://pypi.org/simple, https://us-python.pkg.dev/colab-wheels/public/simple/\n",
            "Collecting simphile\n",
            "  Downloading simphile-1.0.2-py3-none-any.whl (12 kB)\n",
            "Requirement already satisfied: scipy in /usr/local/lib/python3.9/dist-packages (from simphile) (1.10.1)\n",
            "Requirement already satisfied: numpy<1.27.0,>=1.19.5 in /usr/local/lib/python3.9/dist-packages (from scipy->simphile) (1.22.4)\n",
            "Installing collected packages: simphile\n",
            "Successfully installed simphile-1.0.2\n"
          ]
        }
      ]
    },
    {
      "cell_type": "code",
      "source": [
        "import Levenshtein\n",
        "from scipy.spatial import distance\n",
        "from simphile import jaccard_list_similarity"
      ],
      "metadata": {
        "id": "v9lhaRm3y23g"
      },
      "execution_count": 11,
      "outputs": []
    },
    {
      "cell_type": "code",
      "source": [
        "def compare_text(text1,text2):\n",
        "  print(\"- Thuật toán Levenshtein\")\n",
        "  print('   + Ma trận  khi so sánh 2 chuỗi:')\n",
        "  result= levenshtein(text1,text2)\n",
        "  print('   + Khoảng cách của 2 chuỗi khi sử dụng hàm tự code:',result)\n",
        "  print('   + Kết quả khi sử dụng thư viện là:',Levenshtein.distance(text1,text2))\n",
        "  print()\n",
        "  print(\"- Thuật toán Hamming distance\")\n",
        "  print('   + Khoảng cách của 2 chuỗi khi sử dụng hàm tự code:',Hamming_distance(text1,text2))\n",
        "  print('   + Kết quả khi sử dụng thư viện là:',distance.hamming(list(text1),list(text2)))\n",
        "  print()\n",
        "  print(\"- Thuật toán Jaccard\")\n",
        "  print('   + Khoảng cách của 2 chuỗi khi sử dụng hàm tự code:',jaccard_similarity(text1,text2))\n",
        "  print('   + Kết quả khi sử dụng thư viện là:',jaccard_list_similarity(text1,text2))"
      ],
      "metadata": {
        "id": "ATKVfXuMyAXX"
      },
      "execution_count": 24,
      "outputs": []
    },
    {
      "cell_type": "code",
      "source": [
        "lst_text =[]\n",
        "number_text = int(input(\"Nhập số lượng từ muốn check: \"))\n",
        "for i in range(number_text):\n",
        "  string = input(\"Nhập từ thứ \"+str(i+1)+\": \")\n",
        "  lst_text.append(string)\n",
        "while True:\n",
        "  string1 = input(\"Nhập số thứ tự của 2 từ bạn muốn so sánh (Lưu ý cách nhau bỏi dấu cách) và nhập kí tự 'c' để thoát chương trình: \")\n",
        "  if string1 == 'c':\n",
        "    break \n",
        "  lst_str = string1.split(\" \")\n",
        "  if len(lst_str) !=2:\n",
        "    raise ValueError('Bạn nhập sai số lượng từ bạn muốn so sánh')\n",
        "  for i in  lst_str:\n",
        "    if int(i)-1 >= number_text:\n",
        "      raise ValueError('Số thứ tự của câu bị sai') \n",
        "  compare_text(lst_text[int(lst_str[0])-1],lst_text[int(lst_str[1])-1])   \n",
        "\n",
        "\n"
      ],
      "metadata": {
        "colab": {
          "base_uri": "https://localhost:8080/"
        },
        "id": "5B-489WXvZrJ",
        "outputId": "c665f84b-b7a8-4e9a-e164-566f7fcbb9e6"
      },
      "execution_count": 25,
      "outputs": [
        {
          "name": "stdout",
          "output_type": "stream",
          "text": [
            "Nhập số lượng từ muốn check: 2\n",
            "Nhập từ thứ 1: tuimuon\n",
            "Nhập từ thứ 2: bantuia\n",
            "Nhập số thứ tự của 2 từ bạn muốn so sánh (Lưu ý cách nhau bỏi dấu cách) và nhập kí tự 'c' để thoát chương trình: 1 2\n",
            "- Thuật toán Levenshtein\n",
            "   + Ma trận  khi so sánh 2 chuỗi:\n",
            "[[0. 1. 2. 3. 4. 5. 6. 7.]\n",
            " [1. 1. 2. 3. 3. 4. 5. 6.]\n",
            " [2. 2. 2. 3. 4. 3. 4. 5.]\n",
            " [3. 3. 3. 3. 4. 4. 3. 4.]\n",
            " [4. 4. 4. 4. 4. 5. 4. 4.]\n",
            " [5. 5. 5. 5. 5. 4. 5. 5.]\n",
            " [6. 6. 6. 6. 6. 5. 5. 6.]\n",
            " [7. 7. 7. 6. 7. 6. 6. 6.]]\n",
            "   + Khoảng cách của 2 chuỗi khi sử dụng hàm tự code: 6.0\n",
            "   + Kết quả khi sử dụng thư viện là: 6\n",
            "\n",
            "- Thuật toán Hamming distance\n",
            "   + Khoảng cách của 2 chuỗi khi sử dụng hàm tự code: 0.8571428571428571\n",
            "   + Kết quả khi sử dụng thư viện là: 0.8571428571428571\n",
            "\n",
            "- Thuật toán Jaccard\n",
            "   + Khoảng cách của 2 chuỗi khi sử dụng hàm tự code: 0.4\n",
            "   + Kết quả khi sử dụng thư viện là: 0.4\n",
            "Nhập số thứ tự của 2 từ bạn muốn so sánh (Lưu ý cách nhau bỏi dấu cách) và nhập kí tự 'c' để thoát chương trình: c\n"
          ]
        }
      ]
    },
    {
      "cell_type": "markdown",
      "source": [
        "##So sánh độ tương tự giữa 2 câu:\n",
        "\n",
        "- Bag of Word\n",
        "\n",
        "- TF-IDF\n",
        "\n",
        "- Cosine"
      ],
      "metadata": {
        "id": "VC3WFnIX5sin"
      }
    },
    {
      "cell_type": "code",
      "source": [
        "from sklearn.feature_extraction.text import CountVectorizer\n",
        "from sklearn.feature_extraction.text import TfidfVectorizer\n",
        "import numpy as np\n",
        "\n",
        "def Bag_of_word_lib(str_lst):\n",
        "  vectorizer = CountVectorizer()\n",
        "  vectorizer.fit(str_lst)\n",
        "  vector = vectorizer.transform(str_lst)\n",
        "  return sorted(list(vectorizer.vocabulary_)),vector.toarray()\n",
        "\n",
        "def TF_IDF_lib(str_lst):\n",
        "  vectorizer = TfidfVectorizer()\n",
        "  X = vectorizer.fit_transform(str_lst)\n",
        "  return sorted(list(vectorizer.get_feature_names_out())),X.toarray()"
      ],
      "metadata": {
        "id": "kfjt1BN-74jx"
      },
      "execution_count": 23,
      "outputs": []
    },
    {
      "cell_type": "code",
      "source": [
        "def compare_string(str_lst):\n",
        "  print(\"Trong một số trường hợp kết quả sẽ khác vì thư viện sẽ mặc định sẽ loại bỏ các từ 'stopword' \")\n",
        "  print(\"-Thuật toán Bag of Word\")\n",
        "  dic ,vec = generate_bow(str_lst)\n",
        "  dic_lib,vector = Bag_of_word_lib(str_lst)\n",
        "  print(\"   + Dictionary của hàm tự code:\",dic)\n",
        "  print(\"   + Dictionary của thư viện:\",dic_lib)\n",
        "  print(\"   + Kết quả khi chạy bằng hàm tự code:\")\n",
        "  for i,key in enumerate(list(vec.values())):\n",
        "    print(\"Bag of word của câu thứ\",i+1,\"là:\",key)\n",
        "  print(\"   + Kết quả khi sử dụng thư viện :\")\n",
        "  for i,key in enumerate(vector):\n",
        "    print(\"Bag of word của câu thứ\",i+1,\"là:\",key)  \n",
        "  print()\n",
        "  print(\"-Thuật toán TF-IDF\")\n",
        "  vec_TF_IDF = TF_IDF_transform(str_lst)\n",
        "  lib_tf,vector_tf = TF_IDF_lib(str_lst) \n",
        "  print(\"   + Dictionary của hàm tự code:\",create_dictionary_TFIDF(str_lst))\n",
        "  print(\"   + Dictionary của thư viện:\",lib_tf)\n",
        "  print(\"   + Kết quả khi chạy bằng hàm tự code:\")\n",
        "  for i,key in enumerate(vec_TF_IDF):\n",
        "    print(\"TFIDF của câu thứ\",i+1,\"là:\",key)\n",
        "  print(\"   + Kết quả khi sử dụng thư viện :\")\n",
        "  for i,key in enumerate(vector_tf):\n",
        "    print(\"TFIDF của câu thứ\",i+1,\"là:\",key)    \n",
        "  print()  \n",
        "  print(\"- Sử dụng cosine kết hợp vói 2 thuật toán tính độ tương tự giữa 2 câu\")\n",
        "  print(\"   + Độ tương tự của 2 câu kết hợp Bag of word và Cosine\",cosine_sim(list(vec.values())[0],list(vec.values())[1]))\n",
        "  print(\"   + Độ tương tự của 2 câu kết hợp TFIDF và Cosine\",cosine_sim(vec_TF_IDF[0],vec_TF_IDF[1]))\n",
        "\n",
        "\n"
      ],
      "metadata": {
        "id": "Me625Dk47ZLo"
      },
      "execution_count": 28,
      "outputs": []
    },
    {
      "cell_type": "code",
      "source": [
        "str_lst = []\n",
        "for i in range(2):\n",
        "  string = input(\"Nhập câu thứ \"+str(i)+\":\")\n",
        "  str_lst.append(string)\n",
        "compare_string(str_lst)"
      ],
      "metadata": {
        "colab": {
          "base_uri": "https://localhost:8080/"
        },
        "id": "sMWF-PE56Eoy",
        "outputId": "6915b712-509c-49ca-fb3c-70c171c93e95"
      },
      "execution_count": 29,
      "outputs": [
        {
          "output_type": "stream",
          "name": "stdout",
          "text": [
            "Nhập câu thứ 0:I love you not because of who you are, but because of who I am when I am with you\n",
            "Nhập câu thứ 1:To the world you may be one person, but to one person you may be the world\n",
            "Trong một số trường hợp kết quả sẽ khác vì thư viện sẽ mặc định sẽ loại bỏ các từ 'stopword' \n",
            "-Thuật toán Bag of Word\n",
            "   + Dictionary của hàm tự code: ['am', 'are', 'be', 'because', 'but', 'love', 'may', 'not', 'of', 'one', 'person', 'the', 'to', 'when', 'who', 'with', 'world', 'you']\n",
            "   + Dictionary của thư viện: ['am', 'are', 'be', 'because', 'but', 'love', 'may', 'not', 'of', 'one', 'person', 'the', 'to', 'when', 'who', 'with', 'world', 'you']\n",
            "   + Kết quả khi chạy bằng hàm tự code:\n",
            "Bag of word của câu thứ 1 là: [2. 1. 0. 2. 1. 1. 0. 1. 2. 0. 0. 0. 0. 1. 2. 1. 0. 3.]\n",
            "Bag of word của câu thứ 2 là: [0. 0. 2. 0. 1. 0. 2. 0. 0. 2. 2. 2. 2. 0. 0. 0. 2. 2.]\n",
            "   + Kết quả khi sử dụng thư viện :\n",
            "Bag of word của câu thứ 1 là: [2 1 0 2 1 1 0 1 2 0 0 0 0 1 2 1 0 3]\n",
            "Bag of word của câu thứ 2 là: [0 0 2 0 1 0 2 0 0 2 2 2 2 0 0 0 2 2]\n",
            "\n",
            "-Thuật toán TF-IDF\n",
            "   + Dictionary của hàm tự code: ['am', 'are', 'be', 'because', 'but', 'love', 'may', 'not', 'of', 'one', 'person', 'the', 'to', 'when', 'who', 'with', 'world', 'you']\n",
            "   + Dictionary của thư viện: ['am', 'are', 'be', 'because', 'but', 'love', 'may', 'not', 'of', 'one', 'person', 'the', 'to', 'when', 'who', 'with', 'world', 'you']\n",
            "   + Kết quả khi chạy bằng hàm tự code:\n",
            "TFIDF của câu thứ 1 là: [0.39176214 0.19588107 0.         0.39176214 0.13937099 0.19588107\n",
            " 0.         0.19588107 0.39176214 0.         0.         0.\n",
            " 0.         0.19588107 0.39176214 0.19588107 0.         0.41811298]\n",
            "TFIDF của câu thứ 2 là: [0.         0.         0.36195778 0.         0.12876797 0.\n",
            " 0.36195778 0.         0.         0.36195778 0.36195778 0.36195778\n",
            " 0.36195778 0.         0.         0.         0.36195778 0.25753594]\n",
            "   + Kết quả khi sử dụng thư viện :\n",
            "TFIDF của câu thứ 1 là: [0.39176214 0.19588107 0.         0.39176214 0.13937099 0.19588107\n",
            " 0.         0.19588107 0.39176214 0.         0.         0.\n",
            " 0.         0.19588107 0.39176214 0.19588107 0.         0.41811298]\n",
            "TFIDF của câu thứ 2 là: [0.         0.         0.36195778 0.         0.12876797 0.\n",
            " 0.36195778 0.         0.         0.36195778 0.36195778 0.36195778\n",
            " 0.36195778 0.         0.         0.         0.36195778 0.25753594]\n",
            "\n",
            "- Sử dụng cosine kết hợp vói 2 thuật toán tính độ tương tự giữa 2 câu\n",
            "   + Độ tương tự của 2 câu kết hợp Bag of word và Cosine 0.21885688981825285\n",
            "   + Độ tương tự của 2 câu kết hợp TFIDF và Cosine 0.1256256411650647\n"
          ]
        }
      ]
    }
  ]
}